{
  "nbformat": 4,
  "nbformat_minor": 0,
  "metadata": {
    "colab": {
      "name": "projeto supernovas machine learning.ipynb",
      "provenance": [],
      "collapsed_sections": [
        "tPfQlf3PdYts",
        "dPoD_U1zDwzz",
        "Nf7v7p7lXO5G",
        "wDiy3_5Dcr-t",
        "VOniZ3Osf4KV",
        "nf4AIe7KkFW1",
        "JqoluWnnkXgE",
        "1bWqGLhwlgil",
        "e4XnwlepllOE",
        "l_4sjtU7s70f",
        "K57f4-_hs70j",
        "7cxr9GbZs70l",
        "D7_fqeyVs70n",
        "2JKJ6Vmns70r",
        "cnfkGV5Fs70t",
        "wUpeNAY3s70u",
        "LVfoP4Xus70u",
        "TEPjK2hzrGcK",
        "R7tXWIJl2Guc",
        "2b69B9Dw2Et_",
        "6RSPGrS4LcWx",
        "7pUroRnNQ7KO",
        "WlHzlabUQ7vb",
        "v2HOOA2GbgJ_",
        "Sxwu6kLLbgKG",
        "13RoM74KbgKI",
        "bHuAbJTQbgKL",
        "3r4vOoTeP8TS"
      ]
    },
    "kernelspec": {
      "name": "python3",
      "display_name": "Python 3"
    }
  },
  "cells": [
    {
      "cell_type": "markdown",
      "metadata": {
        "id": "tPfQlf3PdYts"
      },
      "source": [
        "# Importações"
      ]
    },
    {
      "cell_type": "code",
      "metadata": {
        "id": "D3VkXX1lJaT-",
        "colab": {
          "base_uri": "https://localhost:8080/"
        },
        "outputId": "04e10756-6400-4aef-8cad-4ec11ae3a33e"
      },
      "source": [
        "!pip install PyDrive"
      ],
      "execution_count": null,
      "outputs": [
        {
          "output_type": "stream",
          "text": [
            "Requirement already satisfied: PyDrive in /usr/local/lib/python3.6/dist-packages (1.3.1)\n",
            "Requirement already satisfied: PyYAML>=3.0 in /usr/local/lib/python3.6/dist-packages (from PyDrive) (3.13)\n",
            "Requirement already satisfied: oauth2client>=4.0.0 in /usr/local/lib/python3.6/dist-packages (from PyDrive) (4.1.3)\n",
            "Requirement already satisfied: google-api-python-client>=1.2 in /usr/local/lib/python3.6/dist-packages (from PyDrive) (1.7.12)\n",
            "Requirement already satisfied: pyasn1>=0.1.7 in /usr/local/lib/python3.6/dist-packages (from oauth2client>=4.0.0->PyDrive) (0.4.8)\n",
            "Requirement already satisfied: httplib2>=0.9.1 in /usr/local/lib/python3.6/dist-packages (from oauth2client>=4.0.0->PyDrive) (0.17.4)\n",
            "Requirement already satisfied: rsa>=3.1.4 in /usr/local/lib/python3.6/dist-packages (from oauth2client>=4.0.0->PyDrive) (4.6)\n",
            "Requirement already satisfied: six>=1.6.1 in /usr/local/lib/python3.6/dist-packages (from oauth2client>=4.0.0->PyDrive) (1.15.0)\n",
            "Requirement already satisfied: pyasn1-modules>=0.0.5 in /usr/local/lib/python3.6/dist-packages (from oauth2client>=4.0.0->PyDrive) (0.2.8)\n",
            "Requirement already satisfied: google-auth>=1.4.1 in /usr/local/lib/python3.6/dist-packages (from google-api-python-client>=1.2->PyDrive) (1.17.2)\n",
            "Requirement already satisfied: google-auth-httplib2>=0.0.3 in /usr/local/lib/python3.6/dist-packages (from google-api-python-client>=1.2->PyDrive) (0.0.4)\n",
            "Requirement already satisfied: uritemplate<4dev,>=3.0.0 in /usr/local/lib/python3.6/dist-packages (from google-api-python-client>=1.2->PyDrive) (3.0.1)\n",
            "Requirement already satisfied: cachetools<5.0,>=2.0.0 in /usr/local/lib/python3.6/dist-packages (from google-auth>=1.4.1->google-api-python-client>=1.2->PyDrive) (4.1.1)\n",
            "Requirement already satisfied: setuptools>=40.3.0 in /usr/local/lib/python3.6/dist-packages (from google-auth>=1.4.1->google-api-python-client>=1.2->PyDrive) (50.3.2)\n"
          ],
          "name": "stdout"
        }
      ]
    },
    {
      "cell_type": "code",
      "metadata": {
        "id": "Muje6ihSJaNJ"
      },
      "source": [
        "from pydrive.auth import GoogleAuth\n",
        "from pydrive.drive import GoogleDrive\n",
        "from google.colab import auth\n",
        "from oauth2client.client import GoogleCredentials"
      ],
      "execution_count": null,
      "outputs": []
    },
    {
      "cell_type": "code",
      "metadata": {
        "id": "1eaKSa5rJaKW"
      },
      "source": [
        "auth.authenticate_user()\n",
        "gauth = GoogleAuth()\n",
        "gauth.credentials = GoogleCredentials.get_application_default()\n",
        "drive = GoogleDrive(gauth)"
      ],
      "execution_count": null,
      "outputs": []
    },
    {
      "cell_type": "code",
      "metadata": {
        "id": "iEmr74FFJaEp"
      },
      "source": [
        "downloaded = drive.CreateFile({'id':\"1-0VizjwKWtoFFB9ole5kz8VnhFduv28l\"}) # replace the id with id of file you want to access\n",
        "downloaded.GetContentFile('supernovas_bg_u.csv')        # replace the file name with your file\n",
        "\n",
        "downloaded = drive.CreateFile({'id':\"1qsDQ5wZw5JKtVOny8XjaSCGTTs0HnBVM\"}) # replace the id with id of file you want to access\n",
        "downloaded.GetContentFile('supernovas_bg_r_i.csv')        # replace the file name with your file\n"
      ],
      "execution_count": null,
      "outputs": []
    },
    {
      "cell_type": "code",
      "metadata": {
        "id": "noTmY7UfC51T"
      },
      "source": [
        "import pandas as pd\n",
        "import numpy as np\n",
        "from matplotlib import pyplot as plt\n",
        "\n",
        "from sklearn.model_selection import train_test_split\n",
        "import warnings\n",
        "warnings.filterwarnings('ignore')\n",
        "from sklearn.preprocessing import LabelEncoder\n",
        "from sklearn.metrics import confusion_matrix, accuracy_score\n",
        "from sklearn.ensemble import RandomForestClassifier\n",
        "from sklearn.neighbors import KNeighborsClassifier\n",
        "from sklearn.model_selection import train_test_split\n",
        "from sklearn.svm import SVC\n",
        "from sklearn.neural_network import MLPClassifier\n",
        "import re\n",
        "\n",
        "#pd.set_option(\"display.max_rows\", None, \"display.max_columns\", None)"
      ],
      "execution_count": null,
      "outputs": []
    },
    {
      "cell_type": "code",
      "metadata": {
        "id": "zfllwAFPJZ5I",
        "colab": {
          "base_uri": "https://localhost:8080/",
          "height": 598
        },
        "outputId": "36356144-f6f4-4214-a70c-a3f8d9d8c2b6"
      },
      "source": [
        "base = pd.read_csv('supernovas_bg_u.csv')\n",
        "base = base.drop(['Unnamed: 0'],axis=1)\n",
        "mags_BG_U=[]\n",
        "for i in range(len(base.mags_BG)):\n",
        "  mags_BG_U.append(eval(base.mags_BG[i]) + eval(base.mags_U[i]))\n",
        "base = pd.concat([base, pd.Series(mags_BG_U)], axis=1)\n",
        "base = base.rename(columns={0: 'mags_BG_U'})\n",
        "base \n",
        "# vamos usar a ultima coluna, que tem as informações de magnitude BG e magnitude U juntas"
      ],
      "execution_count": null,
      "outputs": [
        {
          "output_type": "execute_result",
          "data": {
            "text/html": [
              "<div>\n",
              "<style scoped>\n",
              "    .dataframe tbody tr th:only-of-type {\n",
              "        vertical-align: middle;\n",
              "    }\n",
              "\n",
              "    .dataframe tbody tr th {\n",
              "        vertical-align: top;\n",
              "    }\n",
              "\n",
              "    .dataframe thead th {\n",
              "        text-align: right;\n",
              "    }\n",
              "</style>\n",
              "<table border=\"1\" class=\"dataframe\">\n",
              "  <thead>\n",
              "    <tr style=\"text-align: right;\">\n",
              "      <th></th>\n",
              "      <th>nomes</th>\n",
              "      <th>tipos</th>\n",
              "      <th>mags_BG</th>\n",
              "      <th>mags_U</th>\n",
              "      <th>mags_BG_U</th>\n",
              "    </tr>\n",
              "  </thead>\n",
              "  <tbody>\n",
              "    <tr>\n",
              "      <th>0</th>\n",
              "      <td>ASASSN-14bd</td>\n",
              "      <td>Ia</td>\n",
              "      <td>[1.0581521739130435, 1.0472826086956522, 1.040...</td>\n",
              "      <td>[1.0342995169082128, 1.0030797101449276, 1.000...</td>\n",
              "      <td>[1.0581521739130435, 1.0472826086956522, 1.040...</td>\n",
              "    </tr>\n",
              "    <tr>\n",
              "      <th>1</th>\n",
              "      <td>ASASSN-14lp</td>\n",
              "      <td>Ia</td>\n",
              "      <td>[1.0316010058675609, 1.0209555741827325, 1.026...</td>\n",
              "      <td>[1.0556747694886839, 1.0808885163453479, 1.058...</td>\n",
              "      <td>[1.0316010058675609, 1.0209555741827325, 1.026...</td>\n",
              "    </tr>\n",
              "    <tr>\n",
              "      <th>2</th>\n",
              "      <td>CSS140914:010107-101840</td>\n",
              "      <td>Ia</td>\n",
              "      <td>[1.272233932630709, 1.0623372597644143, 1.0401...</td>\n",
              "      <td>[1.0595784252944824, 1.018908865468072, 1.0015...</td>\n",
              "      <td>[1.272233932630709, 1.0623372597644143, 1.0401...</td>\n",
              "    </tr>\n",
              "    <tr>\n",
              "      <th>3</th>\n",
              "      <td>Gaia15agh</td>\n",
              "      <td>Ia</td>\n",
              "      <td>[1.0230995875073658, 1.0285346690237676, 1.036...</td>\n",
              "      <td>[1.092737183264585, 1.1154213317619328, 1.1330...</td>\n",
              "      <td>[1.0230995875073658, 1.0285346690237676, 1.036...</td>\n",
              "    </tr>\n",
              "    <tr>\n",
              "      <th>4</th>\n",
              "      <td>LSQ11ot</td>\n",
              "      <td>Ia</td>\n",
              "      <td>[1.0351217228464418, 1.0366783707865168, 1.046...</td>\n",
              "      <td>[1.0843258426966293, 1.076505617977528, 1.0995...</td>\n",
              "      <td>[1.0351217228464418, 1.0366783707865168, 1.046...</td>\n",
              "    </tr>\n",
              "    <tr>\n",
              "      <th>...</th>\n",
              "      <td>...</td>\n",
              "      <td>...</td>\n",
              "      <td>...</td>\n",
              "      <td>...</td>\n",
              "      <td>...</td>\n",
              "    </tr>\n",
              "    <tr>\n",
              "      <th>344</th>\n",
              "      <td>SN2016coi</td>\n",
              "      <td>Ic BL</td>\n",
              "      <td>[1.0903841387856257, 1.0918066914498143, 1.090...</td>\n",
              "      <td>[1.0925898389095414, 1.1158736059479555, 1.139...</td>\n",
              "      <td>[1.0903841387856257, 1.0918066914498143, 1.090...</td>\n",
              "    </tr>\n",
              "    <tr>\n",
              "      <th>345</th>\n",
              "      <td>SN2017egm</td>\n",
              "      <td>SLSN-I</td>\n",
              "      <td>[1.1579420556714561, 1.1439178943069561, 1.137...</td>\n",
              "      <td>[1.0519683411837373, 1.0421061212278988, 1.037...</td>\n",
              "      <td>[1.1579420556714561, 1.1439178943069561, 1.137...</td>\n",
              "    </tr>\n",
              "    <tr>\n",
              "      <th>346</th>\n",
              "      <td>iPTF13dge</td>\n",
              "      <td>Ia</td>\n",
              "      <td>[1.0671968190854872, 1.0369532803180916, 1.024...</td>\n",
              "      <td>[1.0525734481996907, 1.018316766070245, 1.0127...</td>\n",
              "      <td>[1.0671968190854872, 1.0369532803180916, 1.024...</td>\n",
              "    </tr>\n",
              "    <tr>\n",
              "      <th>347</th>\n",
              "      <td>iPTF13ebh</td>\n",
              "      <td>Ia</td>\n",
              "      <td>[1.0978705118411, 1.0440931372549018, 1.022496...</td>\n",
              "      <td>[1.0990641711229947, 1.0563836898395722, 1.070...</td>\n",
              "      <td>[1.0978705118411, 1.0440931372549018, 1.022496...</td>\n",
              "    </tr>\n",
              "    <tr>\n",
              "      <th>348</th>\n",
              "      <td>iPTF14bdn</td>\n",
              "      <td>Ia</td>\n",
              "      <td>[1.0507306889352819, 1.0414057063326374, 1.031...</td>\n",
              "      <td>[1.0075156576200417, 1.003409881697982, 1.0038...</td>\n",
              "      <td>[1.0507306889352819, 1.0414057063326374, 1.031...</td>\n",
              "    </tr>\n",
              "  </tbody>\n",
              "</table>\n",
              "<p>349 rows × 5 columns</p>\n",
              "</div>"
            ],
            "text/plain": [
              "                       nomes  ...                                          mags_BG_U\n",
              "0                ASASSN-14bd  ...  [1.0581521739130435, 1.0472826086956522, 1.040...\n",
              "1                ASASSN-14lp  ...  [1.0316010058675609, 1.0209555741827325, 1.026...\n",
              "2    CSS140914:010107-101840  ...  [1.272233932630709, 1.0623372597644143, 1.0401...\n",
              "3                  Gaia15agh  ...  [1.0230995875073658, 1.0285346690237676, 1.036...\n",
              "4                    LSQ11ot  ...  [1.0351217228464418, 1.0366783707865168, 1.046...\n",
              "..                       ...  ...                                                ...\n",
              "344                SN2016coi  ...  [1.0903841387856257, 1.0918066914498143, 1.090...\n",
              "345                SN2017egm  ...  [1.1579420556714561, 1.1439178943069561, 1.137...\n",
              "346                iPTF13dge  ...  [1.0671968190854872, 1.0369532803180916, 1.024...\n",
              "347                iPTF13ebh  ...  [1.0978705118411, 1.0440931372549018, 1.022496...\n",
              "348                iPTF14bdn  ...  [1.0507306889352819, 1.0414057063326374, 1.031...\n",
              "\n",
              "[349 rows x 5 columns]"
            ]
          },
          "metadata": {
            "tags": []
          },
          "execution_count": 6
        }
      ]
    },
    {
      "cell_type": "markdown",
      "metadata": {
        "id": "Fmjiu53d17ai"
      },
      "source": [
        "# Bandas B+G e U"
      ]
    },
    {
      "cell_type": "markdown",
      "metadata": {
        "id": "dPoD_U1zDwzz"
      },
      "source": [
        "# Random Forest (3 classes: II, Ia, outros) test_size = 50%"
      ]
    },
    {
      "cell_type": "code",
      "metadata": {
        "colab": {
          "base_uri": "https://localhost:8080/"
        },
        "id": "3iL7lCgNEU7B",
        "outputId": "74eec216-2886-45f9-dc4a-fa293bef6b94"
      },
      "source": [
        "#dividindo os dados em previsores e classe\n",
        "\n",
        "tipos = []\n",
        "for i in range(len(base.tipos)):\n",
        "  if base.tipos[i] == 'II':\n",
        "    tipos.append('II')\n",
        "  if base.tipos[i] == 'Ia':\n",
        "    tipos.append('Ia')\n",
        "  if base.tipos[i] != 'II' and base.tipos[i] != 'Ia':\n",
        "    tipos.append('outros')\n",
        "tipos = pd.Series(tipos)\n",
        "\n",
        "previsores=[]\n",
        "for i in range(349):\n",
        "  previsores.append(np.array(base.iloc[:,4][i]))\n",
        "previsores = np.asarray(previsores)\n",
        "classe = tipos\n",
        "\n",
        "#divide os dados em previsores de teste e treino, e classes de teste e treino\n",
        "previsores_treinamento, previsores_teste, classe_treinamento, classe_teste = train_test_split(previsores, classe, test_size=0.50,random_state=1)\n",
        "\n",
        "#configura o classificador\n",
        "classificador = RandomForestClassifier(n_estimators=100, criterion='entropy')\n",
        "\n",
        "#gera a random forest usando os valores das variáveis \"previsores_treinamento\" e \"classe_treinamento\" aplicados à função \"RandomForestClassifier\"\n",
        "#(treina o algoritmo)\n",
        "classificador.fit(previsores_treinamento, classe_treinamento)\n",
        "\n",
        "#baseado na árvore de decisão, faz as classificações dos registros da variável \"previsores_teste\"\n",
        "previsoes = classificador.predict(previsores_teste)\n",
        "\n",
        "#calcula a precisão das classificações (compara as classificações da\n",
        "#random forest com as classificações reais)\n",
        "precisao = accuracy_score(classe_teste, previsoes)\n",
        "\n",
        "#gera a matriz de confusão\n",
        "matriz = confusion_matrix(classe_teste, previsoes)\n",
        "\n",
        "precisao_randomforest_3_50 = precisao\n",
        "matriz_randomforest_3_50 = matriz\n",
        "print(precisao)\n",
        "print(matriz)"
      ],
      "execution_count": null,
      "outputs": [
        {
          "output_type": "stream",
          "text": [
            "0.6114285714285714\n",
            "[[85 13  3]\n",
            " [37 17  2]\n",
            " [12  1  5]]\n"
          ],
          "name": "stdout"
        }
      ]
    },
    {
      "cell_type": "markdown",
      "metadata": {
        "id": "Nf7v7p7lXO5G"
      },
      "source": [
        "# Random Forest (2 classes: II, outros) test_size = 50%"
      ]
    },
    {
      "cell_type": "code",
      "metadata": {
        "colab": {
          "base_uri": "https://localhost:8080/"
        },
        "id": "6vHgDlTBWlBS",
        "outputId": "0645af0f-1d56-4782-d6d0-2eb525556679"
      },
      "source": [
        "#dividindo os dados em previsores e classe\n",
        "\n",
        "tipos = []\n",
        "for i in range(len(base.tipos)):\n",
        "  if base.tipos[i] == 'II':\n",
        "    tipos.append('II')\n",
        "  if base.tipos[i] != 'II':\n",
        "    tipos.append('outros')\n",
        "tipos = pd.Series(tipos)\n",
        "\n",
        "previsores=[]\n",
        "for i in range(349):\n",
        "  previsores.append(np.array(base.iloc[:,4][i]))\n",
        "previsores = np.asarray(previsores)\n",
        "classe = tipos\n",
        "\n",
        "#divide os dados em previsores de teste e treino, e classes de teste e treino\n",
        "previsores_treinamento, previsores_teste, classe_treinamento, classe_teste = train_test_split(previsores, classe, test_size=0.50,random_state=1)\n",
        "\n",
        "#configura o classificador\n",
        "classificador = RandomForestClassifier(n_estimators=100, criterion='entropy')\n",
        "\n",
        "#gera a random forest usando os valores das variáveis \"previsores_treinamento\" e \"classe_treinamento\" aplicados à função \"RandomForestClassifier\"\n",
        "#(treina o algoritmo)\n",
        "classificador.fit(previsores_treinamento, classe_treinamento)\n",
        "\n",
        "#baseado na árvore de decisão, faz as classificações dos registros da variável \"previsores_teste\"\n",
        "previsoes = classificador.predict(previsores_teste)\n",
        "\n",
        "#calcula a precisão das classificações (compara as classificações da\n",
        "#random forest com as classificações reais)\n",
        "precisao = accuracy_score(classe_teste, previsoes)\n",
        "\n",
        "#gera a matriz de confusão\n",
        "matriz = confusion_matrix(classe_teste, previsoes)\n",
        "\n",
        "precisao_randomforest_2_50 = precisao\n",
        "matriz_randomforest_2_50 = matriz\n",
        "print(precisao)\n",
        "print(matriz)"
      ],
      "execution_count": null,
      "outputs": [
        {
          "output_type": "stream",
          "text": [
            "0.6342857142857142\n",
            "[[80 21]\n",
            " [43 31]]\n"
          ],
          "name": "stdout"
        }
      ]
    },
    {
      "cell_type": "markdown",
      "metadata": {
        "id": "wDiy3_5Dcr-t"
      },
      "source": [
        "# KNN (3 classes: II, Ia, outros) test_size = 50%"
      ]
    },
    {
      "cell_type": "code",
      "metadata": {
        "colab": {
          "base_uri": "https://localhost:8080/"
        },
        "id": "8M9bj6J4Wk7f",
        "outputId": "e984069a-30b4-49e1-909b-7d17991f62f1"
      },
      "source": [
        "#dividindo os dados em previsores e classe\n",
        "\n",
        "tipos = []\n",
        "for i in range(len(base.tipos)):\n",
        "  if base.tipos[i] == 'II':\n",
        "    tipos.append('II')\n",
        "  if base.tipos[i] == 'Ia':\n",
        "    tipos.append('Ia')\n",
        "  if base.tipos[i] != 'II' and base.tipos[i] != 'Ia':\n",
        "    tipos.append('outros')\n",
        "tipos = pd.Series(tipos)\n",
        "\n",
        "previsores=[]\n",
        "for i in range(349):\n",
        "  previsores.append(np.array(base.iloc[:,4][i]))\n",
        "previsores = np.asarray(previsores)\n",
        "classe = tipos\n",
        "\n",
        "#divide os dados em previsores de teste e treino, e classes de teste e treino\n",
        "previsores_treinamento, previsores_teste, classe_treinamento, classe_teste = train_test_split(previsores, classe, test_size=0.50,random_state=1)\n",
        "\n",
        "#criando o classificador KNN com o numero 5 de vizinhos, utilizando a distancia euclidiana padrao (minkowski p=2)\n",
        "classificador = KNeighborsClassifier(n_neighbors=8, metric='minkowski', p = 2)\n",
        "\n",
        "\n",
        "#(treina o algoritmo)\n",
        "classificador.fit(previsores_treinamento, classe_treinamento)\n",
        "\n",
        "#baseado na árvore de decisão, faz as classificações dos registros da variável \"previsores_teste\"\n",
        "previsoes = classificador.predict(previsores_teste)\n",
        "\n",
        "#calcula a precisão das classificações (compara as classificações da\n",
        "#random forest com as classificações reais)\n",
        "precisao = accuracy_score(classe_teste, previsoes)\n",
        "\n",
        "#gera a matriz de confusão\n",
        "matriz = confusion_matrix(classe_teste, previsoes)\n",
        "\n",
        "precisao_knn_3_50 = precisao\n",
        "matriz_knn_3_50 = matriz\n",
        "print(precisao)\n",
        "print(matriz)"
      ],
      "execution_count": null,
      "outputs": [
        {
          "output_type": "stream",
          "text": [
            "0.6342857142857142\n",
            "[[88 11  2]\n",
            " [33 20  3]\n",
            " [15  0  3]]\n"
          ],
          "name": "stdout"
        }
      ]
    },
    {
      "cell_type": "markdown",
      "metadata": {
        "id": "VOniZ3Osf4KV"
      },
      "source": [
        "# KNN (2 classes: II, outros) test_size = 50%"
      ]
    },
    {
      "cell_type": "code",
      "metadata": {
        "colab": {
          "base_uri": "https://localhost:8080/"
        },
        "id": "qGg17eVJWk13",
        "outputId": "1afabc9f-316d-4420-8f87-8b5ba8b726c1"
      },
      "source": [
        "tipos = []\n",
        "for i in range(len(base.tipos)):\n",
        "  if base.tipos[i] == 'II':\n",
        "    tipos.append('II')\n",
        "  if base.tipos[i] != 'II':\n",
        "    tipos.append('outros')\n",
        "tipos = pd.Series(tipos)\n",
        "\n",
        "previsores=[]\n",
        "for i in range(349):\n",
        "  previsores.append(np.array(base.iloc[:,4][i]))\n",
        "previsores = np.asarray(previsores)\n",
        "classe = tipos\n",
        "\n",
        "#divide os dados em previsores de teste e treino, e classes de teste e treino\n",
        "previsores_treinamento, previsores_teste, classe_treinamento, classe_teste = train_test_split(previsores, classe, test_size=0.50,random_state=1)\n",
        "\n",
        "#criando o classificador KNN com o numero 5 de vizinhos, utilizando a distancia euclidiana padrao (minkowski p=2)\n",
        "classificador = KNeighborsClassifier(n_neighbors=8, metric='minkowski', p = 2)\n",
        "\n",
        "\n",
        "#(treina o algoritmo)\n",
        "classificador.fit(previsores_treinamento, classe_treinamento)\n",
        "\n",
        "#baseado na árvore de decisão, faz as classificações dos registros da variável \"previsores_teste\"\n",
        "previsoes = classificador.predict(previsores_teste)\n",
        "\n",
        "#calcula a precisão das classificações (compara as classificações da\n",
        "#random forest com as classificações reais)\n",
        "precisao = accuracy_score(classe_teste, previsoes)\n",
        "\n",
        "#gera a matriz de confusão\n",
        "matriz = confusion_matrix(classe_teste, previsoes)\n",
        "\n",
        "precisao_knn_2_50 = precisao\n",
        "matriz_knn_2_50 = matriz\n",
        "print(precisao)\n",
        "print(matriz)"
      ],
      "execution_count": null,
      "outputs": [
        {
          "output_type": "stream",
          "text": [
            "0.6857142857142857\n",
            "[[87 14]\n",
            " [41 33]]\n"
          ],
          "name": "stdout"
        }
      ]
    },
    {
      "cell_type": "markdown",
      "metadata": {
        "id": "nf4AIe7KkFW1"
      },
      "source": [
        "# SVM (3 classes: II, Ia, outros) test_size = 50%"
      ]
    },
    {
      "cell_type": "code",
      "metadata": {
        "colab": {
          "base_uri": "https://localhost:8080/"
        },
        "id": "opBZQgmRWkzB",
        "outputId": "4afc90f0-d3a3-42a5-d8d6-ec41cfa5659b"
      },
      "source": [
        "#dividindo os dados em previsores e classe\n",
        "\n",
        "tipos = []\n",
        "for i in range(len(base.tipos)):\n",
        "  if base.tipos[i] == 'II':\n",
        "    tipos.append('II')\n",
        "  if base.tipos[i] == 'Ia':\n",
        "    tipos.append('Ia')\n",
        "  if base.tipos[i] != 'II' and base.tipos[i] != 'Ia':\n",
        "    tipos.append('outros')\n",
        "tipos = pd.Series(tipos)\n",
        "\n",
        "previsores=[]\n",
        "for i in range(349):\n",
        "  previsores.append(np.array(base.iloc[:,4][i]))\n",
        "previsores = np.asarray(previsores)\n",
        "classe = tipos\n",
        "\n",
        "#divide os dados em previsores de teste e treino, e classes de teste e treino\n",
        "previsores_treinamento, previsores_teste, classe_treinamento, classe_teste = train_test_split(previsores, classe, test_size=0.50,random_state=1)\n",
        "\n",
        "#criando o classificador\n",
        "#C: custo / nível de perfeição na análise (default=1)\n",
        "#kernel rbf é o gaussiano\n",
        "classificador = SVC(kernel = 'poly', gamma='scale')\n",
        "\n",
        "\n",
        "#(treina o algoritmo)\n",
        "classificador.fit(previsores_treinamento, classe_treinamento)\n",
        "\n",
        "#baseado na árvore de decisão, faz as classificações dos registros da variável \"previsores_teste\"\n",
        "previsoes = classificador.predict(previsores_teste)\n",
        "\n",
        "#calcula a precisão das classificações (compara as classificações da\n",
        "#random forest com as classificações reais)\n",
        "precisao = accuracy_score(classe_teste, previsoes)\n",
        "\n",
        "#gera a matriz de confusão\n",
        "matriz = confusion_matrix(classe_teste, previsoes)\n",
        "\n",
        "precisao_svm_3_50 = precisao\n",
        "matriz_svm_3_50 = matriz\n",
        "print(precisao)\n",
        "print(matriz)"
      ],
      "execution_count": null,
      "outputs": [
        {
          "output_type": "stream",
          "text": [
            "0.6057142857142858\n",
            "[[93  4  4]\n",
            " [50  5  1]\n",
            " [10  0  8]]\n"
          ],
          "name": "stdout"
        }
      ]
    },
    {
      "cell_type": "markdown",
      "metadata": {
        "id": "JqoluWnnkXgE"
      },
      "source": [
        "# SVM (2 classes: II, outros) test_size = 50%"
      ]
    },
    {
      "cell_type": "code",
      "metadata": {
        "colab": {
          "base_uri": "https://localhost:8080/"
        },
        "id": "IB_fJggGkwU2",
        "outputId": "77fe00c8-c54d-4fa4-c359-9b300ff5863f"
      },
      "source": [
        "tipos = []\n",
        "for i in range(len(base.tipos)):\n",
        "  if base.tipos[i] == 'II':\n",
        "    tipos.append('II')\n",
        "  if base.tipos[i] != 'II':\n",
        "    tipos.append('outros')\n",
        "tipos = pd.Series(tipos)\n",
        "\n",
        "previsores=[]\n",
        "for i in range(349):\n",
        "  previsores.append(np.array(base.iloc[:,4][i]))\n",
        "previsores = np.asarray(previsores)\n",
        "classe = tipos\n",
        "\n",
        "#divide os dados em previsores de teste e treino, e classes de teste e treino\n",
        "previsores_treinamento, previsores_teste, classe_treinamento, classe_teste = train_test_split(previsores, classe, test_size=0.50,random_state=1)\n",
        "\n",
        "#criando o classificador\n",
        "#C: custo / nível de perfeição na análise (default=1)\n",
        "#kernel rbf é o gaussiano\n",
        "classificador = SVC(kernel = 'poly', gamma='scale')\n",
        "\n",
        "\n",
        "#(treina o algoritmo)\n",
        "classificador.fit(previsores_treinamento, classe_treinamento)\n",
        "\n",
        "#baseado na árvore de decisão, faz as classificações dos registros da variável \"previsores_teste\"\n",
        "previsoes = classificador.predict(previsores_teste)\n",
        "\n",
        "#calcula a precisão das classificações (compara as classificações da\n",
        "#random forest com as classificações reais)\n",
        "precisao = accuracy_score(classe_teste, previsoes)\n",
        "\n",
        "#gera a matriz de confusão\n",
        "matriz = confusion_matrix(classe_teste, previsoes)\n",
        "\n",
        "precisao_svm_2_50 = precisao\n",
        "matriz_svm_2_50 = matriz\n",
        "print(precisao)\n",
        "print(matriz)"
      ],
      "execution_count": null,
      "outputs": [
        {
          "output_type": "stream",
          "text": [
            "0.6057142857142858\n",
            "[[85 16]\n",
            " [53 21]]\n"
          ],
          "name": "stdout"
        }
      ]
    },
    {
      "cell_type": "markdown",
      "metadata": {
        "id": "1bWqGLhwlgil"
      },
      "source": [
        "# Redes Neurais (3 classes: II, Ia, outros) test_size = 50%"
      ]
    },
    {
      "cell_type": "code",
      "metadata": {
        "colab": {
          "base_uri": "https://localhost:8080/"
        },
        "id": "KTjqGVW8kwSF",
        "outputId": "a855c105-e7f8-4f9a-a375-cf396ec54882"
      },
      "source": [
        "#dividindo os dados em previsores e classe\n",
        "\n",
        "tipos = []\n",
        "for i in range(len(base.tipos)):\n",
        "  if base.tipos[i] == 'II':\n",
        "    tipos.append('II')\n",
        "  if base.tipos[i] == 'Ia':\n",
        "    tipos.append('Ia')\n",
        "  if base.tipos[i] != 'II' and base.tipos[i] != 'Ia':\n",
        "    tipos.append('outros')\n",
        "tipos = pd.Series(tipos)\n",
        "\n",
        "previsores=[]\n",
        "for i in range(349):\n",
        "  previsores.append(np.array(base.iloc[:,4][i]))\n",
        "previsores = np.asarray(previsores)\n",
        "classe = tipos\n",
        "\n",
        "#divide os dados em previsores de teste e treino, e classes de teste e treino\n",
        "previsores_treinamento, previsores_teste, classe_treinamento, classe_teste = train_test_split(previsores, classe, test_size=0.50,random_state=1)\n",
        "\n",
        "#atribui à variável \"classificador\" a função MLPClassifier\n",
        "#essa função irá gerar a rede neural de várias camadas\n",
        "classificador = MLPClassifier(verbose = False, #exibe o erro ao longo das iterações\n",
        "                              max_iter=1000, #determina o número de iterações\n",
        "                              tol = 0.0000010, #valor mínimo pelo o qual o erro deve diminuir. Caso não consiga, interrompe as iterações\n",
        "                              solver = 'lbfgs', #algoritmo usado para a otimização dos pesos\n",
        "                              hidden_layer_sizes=(100,), #(4,2,),(100,70)=1 camada oculta com 100 neurônios e outra com 70\n",
        "                              activation='relu') #função de ativação\n",
        "\n",
        "\n",
        "#(treina o algoritmo)\n",
        "classificador.fit(previsores_treinamento, classe_treinamento)\n",
        "\n",
        "#baseado na árvore de decisão, faz as classificações dos registros da variável \"previsores_teste\"\n",
        "previsoes = classificador.predict(previsores_teste)\n",
        "\n",
        "#calcula a precisão das classificações (compara as classificações da\n",
        "#random forest com as classificações reais)\n",
        "precisao = accuracy_score(classe_teste, previsoes)\n",
        "\n",
        "#gera a matriz de confusão\n",
        "matriz = confusion_matrix(classe_teste, previsoes)\n",
        "\n",
        "precisao_redesneurais_3_50 = precisao\n",
        "matriz_redesneurais_3_50 = matriz\n",
        "print(precisao)\n",
        "print(matriz)"
      ],
      "execution_count": null,
      "outputs": [
        {
          "output_type": "stream",
          "text": [
            "0.6628571428571428\n",
            "[[74 24  3]\n",
            " [20 33  3]\n",
            " [ 8  1  9]]\n"
          ],
          "name": "stdout"
        }
      ]
    },
    {
      "cell_type": "markdown",
      "metadata": {
        "id": "e4XnwlepllOE"
      },
      "source": [
        "# Redes Neurais (2 classes: II, outros) test_size = 50%"
      ]
    },
    {
      "cell_type": "code",
      "metadata": {
        "colab": {
          "base_uri": "https://localhost:8080/"
        },
        "id": "Dw6vreUulpQj",
        "outputId": "17b366e5-7f1b-460a-ca76-a8c22e9f343a"
      },
      "source": [
        "tipos = []\n",
        "for i in range(len(base.tipos)):\n",
        "  if base.tipos[i] == 'II':\n",
        "    tipos.append('II')\n",
        "  if base.tipos[i] != 'II':\n",
        "    tipos.append('outros')\n",
        "tipos = pd.Series(tipos)\n",
        "\n",
        "previsores=[]\n",
        "for i in range(349):\n",
        "  previsores.append(np.array(base.iloc[:,4][i]))\n",
        "previsores = np.asarray(previsores)\n",
        "classe = tipos\n",
        "\n",
        "#divide os dados em previsores de teste e treino, e classes de teste e treino\n",
        "previsores_treinamento, previsores_teste, classe_treinamento, classe_teste = train_test_split(previsores, classe, test_size=0.50,random_state=1)\n",
        "\n",
        "#atribui à variável \"classificador\" a função MLPClassifier\n",
        "#essa função irá gerar a rede neural de várias camadas\n",
        "classificador = MLPClassifier(verbose = False, #exibe o erro ao longo das iterações\n",
        "                              max_iter=1000, #determina o número de iterações\n",
        "                              tol = 0.0000010, #valor mínimo pelo o qual o erro deve diminuir. Caso não consiga, interrompe as iterações\n",
        "                              solver = 'lbfgs', #algoritmo usado para a otimização dos pesos\n",
        "                              hidden_layer_sizes=(100,), #(4,2,),(100,70)=1 camada oculta com 100 neurônios e outra com 70\n",
        "                              activation='relu') #função de ativação\n",
        "\n",
        "                              \n",
        "#(treina o algoritmo)\n",
        "classificador.fit(previsores_treinamento, classe_treinamento)\n",
        "\n",
        "#baseado na árvore de decisão, faz as classificações dos registros da variável \"previsores_teste\"\n",
        "previsoes = classificador.predict(previsores_teste)\n",
        "\n",
        "#calcula a precisão das classificações (compara as classificações da\n",
        "#random forest com as classificações reais)\n",
        "precisao = accuracy_score(classe_teste, previsoes)\n",
        "\n",
        "#gera a matriz de confusão\n",
        "matriz = confusion_matrix(classe_teste, previsoes)\n",
        "\n",
        "precisao_redesneurais_2_50 = precisao\n",
        "matriz_redesneurais_2_50 = matriz\n",
        "print(precisao)\n",
        "print(matriz)"
      ],
      "execution_count": null,
      "outputs": [
        {
          "output_type": "stream",
          "text": [
            "0.5714285714285714\n",
            "[[73 28]\n",
            " [47 27]]\n"
          ],
          "name": "stdout"
        }
      ]
    },
    {
      "cell_type": "code",
      "metadata": {
        "id": "5NGO6JBMsn9f"
      },
      "source": [
        "##############################################################"
      ],
      "execution_count": null,
      "outputs": []
    },
    {
      "cell_type": "markdown",
      "metadata": {
        "id": "l_4sjtU7s70f"
      },
      "source": [
        "# Random Forest (3 classes: II, Ia, outros) test_size = 40%"
      ]
    },
    {
      "cell_type": "code",
      "metadata": {
        "colab": {
          "base_uri": "https://localhost:8080/"
        },
        "id": "SMizd44ls70g",
        "outputId": "1c8aa7ad-b814-4206-b522-a4daf0716af4"
      },
      "source": [
        "#dividindo os dados em previsores e classe\n",
        "\n",
        "tipos = []\n",
        "for i in range(len(base.tipos)):\n",
        "  if base.tipos[i] == 'II':\n",
        "    tipos.append('II')\n",
        "  if base.tipos[i] == 'Ia':\n",
        "    tipos.append('Ia')\n",
        "  if base.tipos[i] != 'II' and base.tipos[i] != 'Ia':\n",
        "    tipos.append('outros')\n",
        "tipos = pd.Series(tipos)\n",
        "\n",
        "previsores=[]\n",
        "for i in range(349):\n",
        "  previsores.append(np.array(base.iloc[:,4][i]))\n",
        "previsores = np.asarray(previsores)\n",
        "classe = tipos\n",
        "\n",
        "#divide os dados em previsores de teste e treino, e classes de teste e treino\n",
        "previsores_treinamento, previsores_teste, classe_treinamento, classe_teste = train_test_split(previsores, classe, test_size=0.40,random_state=1)\n",
        "\n",
        "#configura o classificador\n",
        "classificador = RandomForestClassifier(n_estimators=100, criterion='entropy')\n",
        "\n",
        "#gera a random forest usando os valores das variáveis \"previsores_treinamento\" e \"classe_treinamento\" aplicados à função \"RandomForestClassifier\"\n",
        "#(treina o algoritmo)\n",
        "classificador.fit(previsores_treinamento, classe_treinamento)\n",
        "\n",
        "#baseado na árvore de decisão, faz as classificações dos registros da variável \"previsores_teste\"\n",
        "previsoes = classificador.predict(previsores_teste)\n",
        "\n",
        "#calcula a precisão das classificações (compara as classificações da\n",
        "#random forest com as classificações reais)\n",
        "precisao = accuracy_score(classe_teste, previsoes)\n",
        "\n",
        "#gera a matriz de confusão\n",
        "matriz = confusion_matrix(classe_teste, previsoes)\n",
        "\n",
        "precisao_randomforest_3_40 = precisao\n",
        "matriz_randomforest_3_40 = matriz\n",
        "print(precisao)\n",
        "print(matriz)"
      ],
      "execution_count": null,
      "outputs": [
        {
          "output_type": "stream",
          "text": [
            "0.6142857142857143\n",
            "[[70  5  2]\n",
            " [33 13  2]\n",
            " [11  1  3]]\n"
          ],
          "name": "stdout"
        }
      ]
    },
    {
      "cell_type": "markdown",
      "metadata": {
        "id": "K57f4-_hs70j"
      },
      "source": [
        "# Random Forest (2 classes: II, outros) test_size = 40%"
      ]
    },
    {
      "cell_type": "code",
      "metadata": {
        "colab": {
          "base_uri": "https://localhost:8080/"
        },
        "id": "arl9UsLZs70j",
        "outputId": "0df7e9f7-b619-4f9d-f8c9-532ebf8dc620"
      },
      "source": [
        "#dividindo os dados em previsores e classe\n",
        "\n",
        "tipos = []\n",
        "for i in range(len(base.tipos)):\n",
        "  if base.tipos[i] == 'II':\n",
        "    tipos.append('II')\n",
        "  if base.tipos[i] != 'II':\n",
        "    tipos.append('outros')\n",
        "tipos = pd.Series(tipos)\n",
        "\n",
        "previsores=[]\n",
        "for i in range(349):\n",
        "  previsores.append(np.array(base.iloc[:,4][i]))\n",
        "previsores = np.asarray(previsores)\n",
        "classe = tipos\n",
        "\n",
        "#divide os dados em previsores de teste e treino, e classes de teste e treino\n",
        "previsores_treinamento, previsores_teste, classe_treinamento, classe_teste = train_test_split(previsores, classe, test_size=0.40,random_state=1)\n",
        "\n",
        "#configura o classificador\n",
        "classificador = RandomForestClassifier(n_estimators=100, criterion='entropy')\n",
        "\n",
        "#gera a random forest usando os valores das variáveis \"previsores_treinamento\" e \"classe_treinamento\" aplicados à função \"RandomForestClassifier\"\n",
        "#(treina o algoritmo)\n",
        "classificador.fit(previsores_treinamento, classe_treinamento)\n",
        "\n",
        "#baseado na árvore de decisão, faz as classificações dos registros da variável \"previsores_teste\"\n",
        "previsoes = classificador.predict(previsores_teste)\n",
        "\n",
        "#calcula a precisão das classificações (compara as classificações da\n",
        "#random forest com as classificações reais)\n",
        "precisao = accuracy_score(classe_teste, previsoes)\n",
        "\n",
        "#gera a matriz de confusão\n",
        "matriz = confusion_matrix(classe_teste, previsoes)\n",
        "\n",
        "precisao_randomforest_2_40 = precisao\n",
        "matriz_randomforest_2_40 = matriz\n",
        "print(precisao)\n",
        "print(matriz)"
      ],
      "execution_count": null,
      "outputs": [
        {
          "output_type": "stream",
          "text": [
            "0.6714285714285714\n",
            "[[68  9]\n",
            " [37 26]]\n"
          ],
          "name": "stdout"
        }
      ]
    },
    {
      "cell_type": "markdown",
      "metadata": {
        "id": "7cxr9GbZs70l"
      },
      "source": [
        "# KNN (3 classes: II, Ia, outros) test_size = 40%"
      ]
    },
    {
      "cell_type": "code",
      "metadata": {
        "colab": {
          "base_uri": "https://localhost:8080/"
        },
        "id": "zlrf-XcVs70m",
        "outputId": "30e4368e-085b-44fa-e5cc-5bc8198c011d"
      },
      "source": [
        "#dividindo os dados em previsores e classe\n",
        "\n",
        "tipos = []\n",
        "for i in range(len(base.tipos)):\n",
        "  if base.tipos[i] == 'II':\n",
        "    tipos.append('II')\n",
        "  if base.tipos[i] == 'Ia':\n",
        "    tipos.append('Ia')\n",
        "  if base.tipos[i] != 'II' and base.tipos[i] != 'Ia':\n",
        "    tipos.append('outros')\n",
        "tipos = pd.Series(tipos)\n",
        "\n",
        "previsores=[]\n",
        "for i in range(349):\n",
        "  previsores.append(np.array(base.iloc[:,4][i]))\n",
        "previsores = np.asarray(previsores)\n",
        "classe = tipos\n",
        "\n",
        "#divide os dados em previsores de teste e treino, e classes de teste e treino\n",
        "previsores_treinamento, previsores_teste, classe_treinamento, classe_teste = train_test_split(previsores, classe, test_size=0.40,random_state=1)\n",
        "\n",
        "#criando o classificador KNN com o numero 5 de vizinhos, utilizando a distancia euclidiana padrao (minkowski p=2)\n",
        "classificador = KNeighborsClassifier(n_neighbors=8, metric='minkowski', p = 2)\n",
        "\n",
        "\n",
        "#(treina o algoritmo)\n",
        "classificador.fit(previsores_treinamento, classe_treinamento)\n",
        "\n",
        "#baseado na árvore de decisão, faz as classificações dos registros da variável \"previsores_teste\"\n",
        "previsoes = classificador.predict(previsores_teste)\n",
        "\n",
        "#calcula a precisão das classificações (compara as classificações da\n",
        "#random forest com as classificações reais)\n",
        "precisao = accuracy_score(classe_teste, previsoes)\n",
        "\n",
        "#gera a matriz de confusão\n",
        "matriz = confusion_matrix(classe_teste, previsoes)\n",
        "\n",
        "precisao_knn_3_40 = precisao\n",
        "matriz_knn_3_40 = matriz\n",
        "print(precisao)\n",
        "print(matriz)"
      ],
      "execution_count": null,
      "outputs": [
        {
          "output_type": "stream",
          "text": [
            "0.6285714285714286\n",
            "[[68  7  2]\n",
            " [28 15  5]\n",
            " [ 9  1  5]]\n"
          ],
          "name": "stdout"
        }
      ]
    },
    {
      "cell_type": "markdown",
      "metadata": {
        "id": "D7_fqeyVs70n"
      },
      "source": [
        "# KNN (2 classes: II, outros) test_size = 40%"
      ]
    },
    {
      "cell_type": "code",
      "metadata": {
        "colab": {
          "base_uri": "https://localhost:8080/"
        },
        "id": "sVFP4v0Qs70o",
        "outputId": "76718f89-7ac6-4e71-bb65-289fbff40088"
      },
      "source": [
        "tipos = []\n",
        "for i in range(len(base.tipos)):\n",
        "  if base.tipos[i] == 'II':\n",
        "    tipos.append('II')\n",
        "  if base.tipos[i] != 'II':\n",
        "    tipos.append('outros')\n",
        "tipos = pd.Series(tipos)\n",
        "\n",
        "previsores=[]\n",
        "for i in range(349):\n",
        "  previsores.append(np.array(base.iloc[:,4][i]))\n",
        "previsores = np.asarray(previsores)\n",
        "classe = tipos\n",
        "\n",
        "#divide os dados em previsores de teste e treino, e classes de teste e treino\n",
        "previsores_treinamento, previsores_teste, classe_treinamento, classe_teste = train_test_split(previsores, classe, test_size=0.40,random_state=1)\n",
        "\n",
        "#criando o classificador KNN com o numero 5 de vizinhos, utilizando a distancia euclidiana padrao (minkowski p=2)\n",
        "classificador = KNeighborsClassifier(n_neighbors=8, metric='minkowski', p = 2)\n",
        "\n",
        "\n",
        "#(treina o algoritmo)\n",
        "classificador.fit(previsores_treinamento, classe_treinamento)\n",
        "\n",
        "#baseado na árvore de decisão, faz as classificações dos registros da variável \"previsores_teste\"\n",
        "previsoes = classificador.predict(previsores_teste)\n",
        "\n",
        "#calcula a precisão das classificações (compara as classificações da\n",
        "#random forest com as classificações reais)\n",
        "precisao = accuracy_score(classe_teste, previsoes)\n",
        "\n",
        "#gera a matriz de confusão\n",
        "matriz = confusion_matrix(classe_teste, previsoes)\n",
        "\n",
        "precisao_knn_2_40 = precisao\n",
        "matriz_knn_2_40 = matriz\n",
        "print(precisao)\n",
        "print(matriz)"
      ],
      "execution_count": null,
      "outputs": [
        {
          "output_type": "stream",
          "text": [
            "0.6928571428571428\n",
            "[[68  9]\n",
            " [34 29]]\n"
          ],
          "name": "stdout"
        }
      ]
    },
    {
      "cell_type": "markdown",
      "metadata": {
        "id": "2JKJ6Vmns70r"
      },
      "source": [
        "# SVM (3 classes: II, Ia, outros) test_size = 40%"
      ]
    },
    {
      "cell_type": "code",
      "metadata": {
        "colab": {
          "base_uri": "https://localhost:8080/"
        },
        "id": "63v9-hU5s70s",
        "outputId": "69c5b836-0899-4c8b-f2a0-fbc53cd5668b"
      },
      "source": [
        "#dividindo os dados em previsores e classe\n",
        "\n",
        "tipos = []\n",
        "for i in range(len(base.tipos)):\n",
        "  if base.tipos[i] == 'II':\n",
        "    tipos.append('II')\n",
        "  if base.tipos[i] == 'Ia':\n",
        "    tipos.append('Ia')\n",
        "  if base.tipos[i] != 'II' and base.tipos[i] != 'Ia':\n",
        "    tipos.append('outros')\n",
        "tipos = pd.Series(tipos)\n",
        "\n",
        "previsores=[]\n",
        "for i in range(349):\n",
        "  previsores.append(np.array(base.iloc[:,4][i]))\n",
        "previsores = np.asarray(previsores)\n",
        "classe = tipos\n",
        "\n",
        "#divide os dados em previsores de teste e treino, e classes de teste e treino\n",
        "previsores_treinamento, previsores_teste, classe_treinamento, classe_teste = train_test_split(previsores, classe, test_size=0.40,random_state=1)\n",
        "\n",
        "#criando o classificador\n",
        "#C: custo / nível de perfeição na análise (default=1)\n",
        "#kernel rbf é o gaussiano\n",
        "classificador = SVC(kernel = 'poly', gamma='scale')\n",
        "\n",
        "\n",
        "#(treina o algoritmo)\n",
        "classificador.fit(previsores_treinamento, classe_treinamento)\n",
        "\n",
        "#baseado na árvore de decisão, faz as classificações dos registros da variável \"previsores_teste\"\n",
        "previsoes = classificador.predict(previsores_teste)\n",
        "\n",
        "#calcula a precisão das classificações (compara as classificações da\n",
        "#random forest com as classificações reais)\n",
        "precisao = accuracy_score(classe_teste, previsoes)\n",
        "\n",
        "#gera a matriz de confusão\n",
        "matriz = confusion_matrix(classe_teste, previsoes)\n",
        "\n",
        "precisao_svm_3_40 = precisao\n",
        "matriz_svm_3_40 = matriz\n",
        "print(precisao)\n",
        "print(matriz)"
      ],
      "execution_count": null,
      "outputs": [
        {
          "output_type": "stream",
          "text": [
            "0.5714285714285714\n",
            "[[73  3  1]\n",
            " [44  2  2]\n",
            " [10  0  5]]\n"
          ],
          "name": "stdout"
        }
      ]
    },
    {
      "cell_type": "markdown",
      "metadata": {
        "id": "cnfkGV5Fs70t"
      },
      "source": [
        "# SVM (2 classes: II, outros) test_size = 40%"
      ]
    },
    {
      "cell_type": "code",
      "metadata": {
        "colab": {
          "base_uri": "https://localhost:8080/"
        },
        "id": "O06gQ0Nns70t",
        "outputId": "a99f50f7-f58d-4db7-dad2-e6f0cb658d45"
      },
      "source": [
        "tipos = []\n",
        "for i in range(len(base.tipos)):\n",
        "  if base.tipos[i] == 'II':\n",
        "    tipos.append('II')\n",
        "  if base.tipos[i] != 'II':\n",
        "    tipos.append('outros')\n",
        "tipos = pd.Series(tipos)\n",
        "\n",
        "previsores=[]\n",
        "for i in range(349):\n",
        "  previsores.append(np.array(base.iloc[:,4][i]))\n",
        "previsores = np.asarray(previsores)\n",
        "classe = tipos\n",
        "\n",
        "#divide os dados em previsores de teste e treino, e classes de teste e treino\n",
        "previsores_treinamento, previsores_teste, classe_treinamento, classe_teste = train_test_split(previsores, classe, test_size=0.40,random_state=1)\n",
        "\n",
        "#criando o classificador\n",
        "#C: custo / nível de perfeição na análise (default=1)\n",
        "#kernel rbf é o gaussiano\n",
        "classificador = SVC(kernel = 'poly', gamma='scale')\n",
        "\n",
        "\n",
        "#(treina o algoritmo)\n",
        "classificador.fit(previsores_treinamento, classe_treinamento)\n",
        "\n",
        "#baseado na árvore de decisão, faz as classificações dos registros da variável \"previsores_teste\"\n",
        "previsoes = classificador.predict(previsores_teste)\n",
        "\n",
        "#calcula a precisão das classificações (compara as classificações da\n",
        "#random forest com as classificações reais)\n",
        "precisao = accuracy_score(classe_teste, previsoes)\n",
        "\n",
        "#gera a matriz de confusão\n",
        "matriz = confusion_matrix(classe_teste, previsoes)\n",
        "\n",
        "precisao_svm_2_40 = precisao\n",
        "matriz_svm_2_40 = matriz\n",
        "print(precisao)\n",
        "print(matriz)"
      ],
      "execution_count": null,
      "outputs": [
        {
          "output_type": "stream",
          "text": [
            "0.6357142857142857\n",
            "[[69  8]\n",
            " [43 20]]\n"
          ],
          "name": "stdout"
        }
      ]
    },
    {
      "cell_type": "markdown",
      "metadata": {
        "id": "wUpeNAY3s70u"
      },
      "source": [
        "# Redes Neurais (3 classes: II, Ia, outros) test_size = 40%"
      ]
    },
    {
      "cell_type": "code",
      "metadata": {
        "colab": {
          "base_uri": "https://localhost:8080/"
        },
        "id": "VnQtgGvRs70u",
        "outputId": "65ab1fd7-cb4a-4b2a-904e-98cc770d27e7"
      },
      "source": [
        "#dividindo os dados em previsores e classe\n",
        "\n",
        "tipos = []\n",
        "for i in range(len(base.tipos)):\n",
        "  if base.tipos[i] == 'II':\n",
        "    tipos.append('II')\n",
        "  if base.tipos[i] == 'Ia':\n",
        "    tipos.append('Ia')\n",
        "  if base.tipos[i] != 'II' and base.tipos[i] != 'Ia':\n",
        "    tipos.append('outros')\n",
        "tipos = pd.Series(tipos)\n",
        "\n",
        "previsores=[]\n",
        "for i in range(349):\n",
        "  previsores.append(np.array(base.iloc[:,4][i]))\n",
        "previsores = np.asarray(previsores)\n",
        "classe = tipos\n",
        "\n",
        "#divide os dados em previsores de teste e treino, e classes de teste e treino\n",
        "previsores_treinamento, previsores_teste, classe_treinamento, classe_teste = train_test_split(previsores, classe, test_size=0.40,random_state=1)\n",
        "\n",
        "#atribui à variável \"classificador\" a função MLPClassifier\n",
        "#essa função irá gerar a rede neural de várias camadas\n",
        "classificador = MLPClassifier(verbose = False, #exibe o erro ao longo das iterações\n",
        "                              max_iter=1000, #determina o número de iterações\n",
        "                              tol = 0.0000010, #valor mínimo pelo o qual o erro deve diminuir. Caso não consiga, interrompe as iterações\n",
        "                              solver = 'lbfgs', #algoritmo usado para a otimização dos pesos\n",
        "                              hidden_layer_sizes=(100,), #(4,2,),(100,70)=1 camada oculta com 100 neurônios e outra com 70\n",
        "                              activation='relu') #função de ativação\n",
        "\n",
        "\n",
        "#(treina o algoritmo)\n",
        "classificador.fit(previsores_treinamento, classe_treinamento)\n",
        "\n",
        "#baseado na árvore de decisão, faz as classificações dos registros da variável \"previsores_teste\"\n",
        "previsoes = classificador.predict(previsores_teste)\n",
        "\n",
        "#calcula a precisão das classificações (compara as classificações da\n",
        "#random forest com as classificações reais)\n",
        "precisao = accuracy_score(classe_teste, previsoes)\n",
        "\n",
        "#gera a matriz de confusão\n",
        "matriz = confusion_matrix(classe_teste, previsoes)\n",
        "\n",
        "precisao_redesneurais_3_40 = precisao\n",
        "matriz_redesneurais_3_40 = matriz\n",
        "print(precisao)\n",
        "print(matriz)"
      ],
      "execution_count": null,
      "outputs": [
        {
          "output_type": "stream",
          "text": [
            "0.5642857142857143\n",
            "[[58 16  3]\n",
            " [27 20  1]\n",
            " [13  1  1]]\n"
          ],
          "name": "stdout"
        }
      ]
    },
    {
      "cell_type": "markdown",
      "metadata": {
        "id": "LVfoP4Xus70u"
      },
      "source": [
        "# Redes Neurais (2 classes: II, outros) test_size = 40%"
      ]
    },
    {
      "cell_type": "code",
      "metadata": {
        "colab": {
          "base_uri": "https://localhost:8080/"
        },
        "id": "9PtmjUI9s70u",
        "outputId": "6d1e0a9c-4e4f-475e-d964-c57b2ce7f4dd"
      },
      "source": [
        "tipos = []\n",
        "for i in range(len(base.tipos)):\n",
        "  if base.tipos[i] == 'II':\n",
        "    tipos.append('II')\n",
        "  if base.tipos[i] != 'II':\n",
        "    tipos.append('outros')\n",
        "tipos = pd.Series(tipos)\n",
        "\n",
        "previsores=[]\n",
        "for i in range(349):\n",
        "  previsores.append(np.array(base.iloc[:,4][i]))\n",
        "previsores = np.asarray(previsores)\n",
        "classe = tipos\n",
        "\n",
        "#divide os dados em previsores de teste e treino, e classes de teste e treino\n",
        "previsores_treinamento, previsores_teste, classe_treinamento, classe_teste = train_test_split(previsores, classe, test_size=0.40,random_state=1)\n",
        "\n",
        "#atribui à variável \"classificador\" a função MLPClassifier\n",
        "#essa função irá gerar a rede neural de várias camadas\n",
        "classificador = MLPClassifier(verbose = False, #exibe o erro ao longo das iterações\n",
        "                              max_iter=1000, #determina o número de iterações\n",
        "                              tol = 0.0000010, #valor mínimo pelo o qual o erro deve diminuir. Caso não consiga, interrompe as iterações\n",
        "                              solver = 'lbfgs', #algoritmo usado para a otimização dos pesos\n",
        "                              hidden_layer_sizes=(100,), #(4,2,),(100,70)=1 camada oculta com 100 neurônios e outra com 70\n",
        "                              activation='relu') #função de ativação\n",
        "\n",
        "                              \n",
        "#(treina o algoritmo)\n",
        "classificador.fit(previsores_treinamento, classe_treinamento)\n",
        "\n",
        "#baseado na árvore de decisão, faz as classificações dos registros da variável \"previsores_teste\"\n",
        "previsoes = classificador.predict(previsores_teste)\n",
        "\n",
        "#calcula a precisão das classificações (compara as classificações da\n",
        "#random forest com as classificações reais)\n",
        "precisao = accuracy_score(classe_teste, previsoes)\n",
        "\n",
        "#gera a matriz de confusão\n",
        "matriz = confusion_matrix(classe_teste, previsoes)\n",
        "\n",
        "precisao_redesneurais_2_40 = precisao\n",
        "matriz_redesneurais_2_40 = matriz\n",
        "print(precisao)\n",
        "print(matriz)"
      ],
      "execution_count": null,
      "outputs": [
        {
          "output_type": "stream",
          "text": [
            "0.6928571428571428\n",
            "[[60 17]\n",
            " [26 37]]\n"
          ],
          "name": "stdout"
        }
      ]
    },
    {
      "cell_type": "code",
      "metadata": {
        "id": "lhyJuv92snxO"
      },
      "source": [
        ""
      ],
      "execution_count": null,
      "outputs": []
    },
    {
      "cell_type": "markdown",
      "metadata": {
        "id": "TEPjK2hzrGcK"
      },
      "source": [
        "# Gráfico das bandas B+G e U comparando a precisão de cada classificador com 2 e 3 classes e com test_size de 50% e 40%"
      ]
    },
    {
      "cell_type": "code",
      "metadata": {
        "colab": {
          "base_uri": "https://localhost:8080/",
          "height": 499
        },
        "id": "t9gCBqjPlsWy",
        "outputId": "7d349e03-c2e8-4c3b-8132-9e436d827fff"
      },
      "source": [
        "plt.figure(figsize=(8,8))\n",
        "\n",
        "plt.plot(\"Random Forest\",precisao_randomforest_2_50,'gx',label='2 classes 50%')\n",
        "plt.plot(\"Random Forest\",precisao_randomforest_3_50,'g+',label='3 classes 50%')\n",
        "plt.plot(\"Random Forest\",precisao_randomforest_2_40,'g<',label='2 classes 40%')\n",
        "plt.plot(\"Random Forest\",precisao_randomforest_3_40,'g>',label='3 classes 40%')\n",
        "plt.plot(\"KNN\",precisao_knn_2_50,'rx',label='2 classes 50%')\n",
        "plt.plot(\"KNN\",precisao_knn_3_50,'r+',label='3 classes 50%')\n",
        "plt.plot(\"KNN\",precisao_knn_2_40,'r<',label='2 classes 40%')\n",
        "plt.plot(\"KNN\",precisao_knn_3_40,'r>',label='3 classes 40%')\n",
        "plt.plot(\"SVM\",precisao_svm_2_50,'mx',label='2 classes 50%')\n",
        "plt.plot(\"SVM\",precisao_svm_3_50,'m+',label='3 classes 50%')\n",
        "plt.plot(\"SVM\",precisao_svm_2_40,'m<',label='2 classes 40%')\n",
        "plt.plot(\"SVM\",precisao_svm_3_40,'m>',label='3 classes 40%')\n",
        "plt.plot(\"Redes Neurais\",precisao_redesneurais_2_50,'bx',label='2 classes 50%')\n",
        "plt.plot(\"Redes Neurais\",precisao_redesneurais_3_50,'b+',label='3 classes 50%')\n",
        "plt.plot(\"Redes Neurais\",precisao_redesneurais_2_40,'b<',label='2 classes 40%')\n",
        "plt.plot(\"Redes Neurais\",precisao_redesneurais_3_40,'b>',label='3 classes 40%')\n",
        "plt.title(\"Porcentagem de acerto do treinamento com as bandas B+G e U para os 4 classificadores\")\n",
        "plt.grid()\n",
        "plt.legend(ncol=2)\n",
        "plt.savefig(\"bandas_BG_U.png\")\n",
        "plt.show()"
      ],
      "execution_count": 119,
      "outputs": [
        {
          "output_type": "display_data",
          "data": {
            "image/png": "[encoded data removed]",
            "text/plain": [
              "<Figure size 576x576 with 1 Axes>"
            ]
          },
          "metadata": {
            "tags": [],
            "needs_background": "light"
          }
        }
      ]
    },
    {
      "cell_type": "markdown",
      "metadata": {
        "id": "R7tXWIJl2Guc"
      },
      "source": [
        "--------------------------------------------------------------------------------\n",
        "# Bandas B+G, R e I"
      ]
    },
    {
      "cell_type": "code",
      "metadata": {
        "id": "yWKrbIVQG-Lj"
      },
      "source": [
        "# função que retira os valores de magnitude de dentro das listas, para facilitar a execução do treinamento\n",
        "\n",
        "def read_csv(arquivo2_string):\n",
        "    #para bandas g,r,i\n",
        "    base = pd.read_csv(arquivo2_string)\n",
        "    for i, value in enumerate(base['mags_I']):\n",
        "        if base['mags_I'][i][1]==' ':\n",
        "                base['mags_I'][i] = re.sub(' ','',base['mags_I'][i], 1)\n",
        "        base['mags_I'][i] = base['mags_I'][i].replace(\"[\", \"\")\n",
        "        base['mags_I'][i] = eval(base['mags_I'][i].replace(\"]\", \"\"))\n",
        "    for i, value in enumerate(base['mags_BG']):\n",
        "        if base['mags_BG'][i][1]==' ':\n",
        "                base['mags_BG'][i] = re.sub(' ','',base['mags_BG'][i], 1)\n",
        "        base['mags_BG'][i] = base['mags_BG'][i].replace(\"[\", \"\")\n",
        "        base['mags_BG'][i] = eval(base['mags_BG'][i].replace(\"]\", \"\"))\n",
        "    for i, value in enumerate(base['mags_R']):\n",
        "        if base['mags_R'][i][1]==' ':\n",
        "                base['mags_R'][i] = re.sub(' ','',base['mags_R'][i], 1)\n",
        "        base['mags_R'][i] = base['mags_R'][i].replace(\"[\", \"\")\n",
        "        base['mags_R'][i] = eval(base['mags_R'][i].replace(\"]\", \"\"))\n",
        "    return base"
      ],
      "execution_count": null,
      "outputs": []
    },
    {
      "cell_type": "code",
      "metadata": {
        "colab": {
          "base_uri": "https://localhost:8080/",
          "height": 598
        },
        "id": "ddM1cqt4H6Mi",
        "outputId": "cba8f7a7-845b-42a7-80e6-d13ec5fad426"
      },
      "source": [
        "# base de dados bandas BG, R, I\n",
        "base = read_csv(\"supernovas_bg_r_i.csv\")\n",
        "base = base.drop(['Unnamed: 0'],axis=1)\n",
        "base"
      ],
      "execution_count": null,
      "outputs": [
        {
          "output_type": "execute_result",
          "data": {
            "text/html": [
              "<div>\n",
              "<style scoped>\n",
              "    .dataframe tbody tr th:only-of-type {\n",
              "        vertical-align: middle;\n",
              "    }\n",
              "\n",
              "    .dataframe tbody tr th {\n",
              "        vertical-align: top;\n",
              "    }\n",
              "\n",
              "    .dataframe thead th {\n",
              "        text-align: right;\n",
              "    }\n",
              "</style>\n",
              "<table border=\"1\" class=\"dataframe\">\n",
              "  <thead>\n",
              "    <tr style=\"text-align: right;\">\n",
              "      <th></th>\n",
              "      <th>nomes</th>\n",
              "      <th>tipos</th>\n",
              "      <th>mags_BG</th>\n",
              "      <th>mags_R</th>\n",
              "      <th>mags_I</th>\n",
              "    </tr>\n",
              "  </thead>\n",
              "  <tbody>\n",
              "    <tr>\n",
              "      <th>0</th>\n",
              "      <td>ASASSN-14lp</td>\n",
              "      <td>Ia</td>\n",
              "      <td>(1.0316010058675609, 1.0209555741827325, 1.026...</td>\n",
              "      <td>(1.0481512526776566, 1.0476110645431687, 1.056...</td>\n",
              "      <td>(1.0481512526776566, 1.0476110645431687, 1.056...</td>\n",
              "    </tr>\n",
              "    <tr>\n",
              "      <th>1</th>\n",
              "      <td>Gaia15agh</td>\n",
              "      <td>Ia</td>\n",
              "      <td>(1.0230995875073658, 1.0285346690237676, 1.036...</td>\n",
              "      <td>(1.0777725397760756, 1.0799882144961699, 1.004...</td>\n",
              "      <td>(1.0777725397760756, 1.0799882144961699, 1.004...</td>\n",
              "    </tr>\n",
              "    <tr>\n",
              "      <th>2</th>\n",
              "      <td>Gaia16aam</td>\n",
              "      <td>Candidate</td>\n",
              "      <td>(1.2096367650010036, 1.2113786875376278, 1.191...</td>\n",
              "      <td>(1.0371282360024083, 1.0964940798715634, 1.042...</td>\n",
              "      <td>(1.0371282360024083, 1.0964940798715634, 1.042...</td>\n",
              "    </tr>\n",
              "    <tr>\n",
              "      <th>3</th>\n",
              "      <td>LSQ11ot</td>\n",
              "      <td>Ia</td>\n",
              "      <td>(1.0351217228464418, 1.0366783707865168, 1.046...</td>\n",
              "      <td>(1.0137265917602993, 1.0170786516853931, 1.023...</td>\n",
              "      <td>(1.0137265917602993, 1.0170786516853931, 1.023...</td>\n",
              "    </tr>\n",
              "    <tr>\n",
              "      <th>4</th>\n",
              "      <td>LSQ12gdj</td>\n",
              "      <td>Ia</td>\n",
              "      <td>(1.10351911736732, 1.0785861275874593, 1.06433...</td>\n",
              "      <td>(1.1306524633821573, 1.1103565616215418, 1.103...</td>\n",
              "      <td>(1.1306524633821573, 1.1103565616215418, 1.103...</td>\n",
              "    </tr>\n",
              "    <tr>\n",
              "      <th>...</th>\n",
              "      <td>...</td>\n",
              "      <td>...</td>\n",
              "      <td>...</td>\n",
              "      <td>...</td>\n",
              "      <td>...</td>\n",
              "    </tr>\n",
              "    <tr>\n",
              "      <th>460</th>\n",
              "      <td>SN2018hde</td>\n",
              "      <td>II P</td>\n",
              "      <td>(1.0393073117097307, 1.045079714128642, 1.0471...</td>\n",
              "      <td>(1.0184167124793841, 1.0073300348176653, 1.003...</td>\n",
              "      <td>(1.0184167124793841, 1.0073300348176653, 1.003...</td>\n",
              "    </tr>\n",
              "    <tr>\n",
              "      <th>461</th>\n",
              "      <td>SNhunt151</td>\n",
              "      <td>LBV to IIn</td>\n",
              "      <td>(1.2199868073878626, 1.2302110817941951, 1.235...</td>\n",
              "      <td>(1.1273087071240104, 1.132585751978892, 1.1299...</td>\n",
              "      <td>(1.1273087071240104, 1.132585751978892, 1.1299...</td>\n",
              "    </tr>\n",
              "    <tr>\n",
              "      <th>462</th>\n",
              "      <td>iPTF13bvn</td>\n",
              "      <td>Ib</td>\n",
              "      <td>(1.0674822804314328, 1.0640290556900727, 1.079...</td>\n",
              "      <td>(1.036942372881356, 1.0244406779661017, 1.0186...</td>\n",
              "      <td>(1.036942372881356, 1.0244406779661017, 1.0186...</td>\n",
              "    </tr>\n",
              "    <tr>\n",
              "      <th>463</th>\n",
              "      <td>iPTF13dge</td>\n",
              "      <td>Ia</td>\n",
              "      <td>(1.0671968190854872, 1.0369532803180916, 1.024...</td>\n",
              "      <td>(1.0563286944996688, 1.0304837640821736, 1.031...</td>\n",
              "      <td>(1.0563286944996688, 1.0304837640821736, 1.031...</td>\n",
              "    </tr>\n",
              "    <tr>\n",
              "      <th>464</th>\n",
              "      <td>iPTF13ebh</td>\n",
              "      <td>Ia</td>\n",
              "      <td>(1.0978705118411, 1.0440931372549018, 1.022496...</td>\n",
              "      <td>(1.0893716577540105, 1.0354233511586453, 1.034...</td>\n",
              "      <td>(1.0893716577540105, 1.0354233511586453, 1.034...</td>\n",
              "    </tr>\n",
              "  </tbody>\n",
              "</table>\n",
              "<p>465 rows × 5 columns</p>\n",
              "</div>"
            ],
            "text/plain": [
              "           nomes  ...                                             mags_I\n",
              "0    ASASSN-14lp  ...  (1.0481512526776566, 1.0476110645431687, 1.056...\n",
              "1      Gaia15agh  ...  (1.0777725397760756, 1.0799882144961699, 1.004...\n",
              "2      Gaia16aam  ...  (1.0371282360024083, 1.0964940798715634, 1.042...\n",
              "3        LSQ11ot  ...  (1.0137265917602993, 1.0170786516853931, 1.023...\n",
              "4       LSQ12gdj  ...  (1.1306524633821573, 1.1103565616215418, 1.103...\n",
              "..           ...  ...                                                ...\n",
              "460    SN2018hde  ...  (1.0184167124793841, 1.0073300348176653, 1.003...\n",
              "461    SNhunt151  ...  (1.1273087071240104, 1.132585751978892, 1.1299...\n",
              "462    iPTF13bvn  ...  (1.036942372881356, 1.0244406779661017, 1.0186...\n",
              "463    iPTF13dge  ...  (1.0563286944996688, 1.0304837640821736, 1.031...\n",
              "464    iPTF13ebh  ...  (1.0893716577540105, 1.0354233511586453, 1.034...\n",
              "\n",
              "[465 rows x 5 columns]"
            ]
          },
          "metadata": {
            "tags": []
          },
          "execution_count": 90
        }
      ]
    },
    {
      "cell_type": "markdown",
      "metadata": {
        "id": "2b69B9Dw2Et_"
      },
      "source": [
        "# Redes Neurais (3 classes: II, Ia, outros) test_size = 50%\n",
        "# Bandas 2 a 2 (BG + R) (BG + I) (R+I)"
      ]
    },
    {
      "cell_type": "code",
      "metadata": {
        "colab": {
          "base_uri": "https://localhost:8080/"
        },
        "id": "ZI6GdmhGFTqv",
        "outputId": "98241787-a242-49a3-9658-92461891292e"
      },
      "source": [
        "#junta os valores de 'mags_BG' e 'mags_R' de uma dada supernova num único array e salva-os na variável 'previsores1'\n",
        "previsores1 = np.asarray(base.iloc[:,2:4])\n",
        "previsores1 = np.array([np.append(previsores1[:,0][i],previsores1[:,1][i]) for i in range(len(base))])\n",
        "\n",
        "#junta os valores de 'mags_BG' e 'mags_I' de uma dada supernova num único array e salva-os na variável 'previsores2'\n",
        "previsores2 = np.asarray(base.iloc[:,[2,4]])\n",
        "previsores2 = np.array([np.append(previsores2[:,0][i],previsores2[:,1][i]) for i in range(len(base))])\n",
        "\n",
        "#junta os valores de 'mags_R' e 'mags_I' de uma dada supernova num único array e salva-os na variável 'previsores3'\n",
        "previsores3 = np.asarray(base.iloc[:,[3,4]])\n",
        "previsores3 = np.array([np.append(previsores3[:,0][i],previsores3[:,1][i]) for i in range(len(base))])\n",
        "\n",
        "#salva os tipos na variável 'classe1'\n",
        "classe1 = base.iloc[:,1]\n",
        "#altera os tipos para II, Ia e outros\n",
        "for i, v in enumerate(classe1):\n",
        "    if v!='II' and v!='Ia':\n",
        "        classe1[i]='outros'\n",
        "\n",
        "#salva os tipos na variável 'classe2'\n",
        "classe2 = base.iloc[:,1]\n",
        "#altera os tipos para II, Ia e outros\n",
        "for i, v in enumerate(classe2):\n",
        "    if v!='II' and v!='Ia':\n",
        "        classe2[i]='outros'\n",
        "\n",
        "#salva os tipos na variável 'classe3'\n",
        "classe3 = base.iloc[:,1]\n",
        "#altera os tipos para II, Ia e outros\n",
        "for i, v in enumerate(classe3):\n",
        "    if v!='II' and v!='Ia':\n",
        "        classe3[i]='outros'\n",
        "\n",
        "#divide os dados em previsores de teste e treino, e classes de teste e treino, com random_state=1\n",
        "previsores_treinamento1, previsores_teste1, classe_treinamento1, classe_teste1 = train_test_split(previsores1, classe1, test_size=0.50, random_state=1)\n",
        "previsores_treinamento2, previsores_teste2, classe_treinamento2, classe_teste2 = train_test_split(previsores2, classe2, test_size=0.50, random_state=1) \n",
        "previsores_treinamento3, previsores_teste3, classe_treinamento3, classe_teste3 = train_test_split(previsores3, classe3, test_size=0.50, random_state=1) \n",
        "\n",
        "classificador1 = MLPClassifier(verbose = False, #exibe o erro ao longo das iterações\n",
        "                              max_iter=1000, #determina o número de iterações\n",
        "                              tol = 0.0000010, #valor mínimo pelo o qual o erro deve diminuir. Caso não consiga, interrompe as iterações\n",
        "                              solver = 'lbfgs', #algoritmo usado para a otimização dos pesos\n",
        "                              hidden_layer_sizes=(100,), #(100,70)=1 camada oculta com 100 neurônios e outra com 70\n",
        "                              activation='relu') #função de ativação\n",
        "\n",
        "classificador2 = MLPClassifier(verbose = False, #exibe o erro ao longo das iterações\n",
        "                              max_iter=1000, #determina o número de iterações\n",
        "                              tol = 0.0000010, #valor mínimo pelo o qual o erro deve diminuir. Caso não consiga, interrompe as iterações\n",
        "                              solver = 'lbfgs', #algoritmo usado para a otimização dos pesos\n",
        "                              hidden_layer_sizes=(100,), #(100,70)=1 camada oculta com 100 neurônios e outra com 70\n",
        "                              activation='relu') #função de ativação\n",
        "\n",
        "classificador3 = MLPClassifier(verbose = False, #exibe o erro ao longo das iterações\n",
        "                              max_iter=1000, #determina o número de iterações\n",
        "                              tol = 0.0000010, #valor mínimo pelo o qual o erro deve diminuir. Caso não consiga, interrompe as iterações\n",
        "                              solver = 'lbfgs', #algoritmo usado para a otimização dos pesos\n",
        "                              hidden_layer_sizes=(100,), #(100,70)=1 camada oculta com 100 neurônios e outra com 70\n",
        "                              activation='relu') #função de ativação\n",
        "\n",
        "classificadorgeral = MLPClassifier(verbose = False, #exibe o erro ao longo das iterações\n",
        "                              max_iter=1000, #determina o número de iterações\n",
        "                              tol = 0.0000010, #valor mínimo pelo o qual o erro deve diminuir. Caso não consiga, interrompe as iterações\n",
        "                              solver = 'lbfgs', #algoritmo usado para a otimização dos pesos\n",
        "                              hidden_layer_sizes=(100,), #(100,70)=1 camada oculta com 100 neurônios e outra com 70\n",
        "                              activation='relu') #função de ativação\n",
        "\n",
        "#treina a rede neural usando os atributos de treinamento\n",
        "classificador1.fit(previsores_treinamento1, classe_treinamento1)\n",
        "classificador2.fit(previsores_treinamento2, classe_treinamento2)\n",
        "classificador3.fit(previsores_treinamento3, classe_treinamento3)\n",
        "\n",
        "#faz as previsões das classificações dos atributos de teste usando a rede neural já treinada\n",
        "previsoes1 = classificador1.predict(previsores_teste1)\n",
        "previsoes_proba1teste = classificador1.predict_proba(previsores_teste1)\n",
        "previsoes_proba1treino = classificador1.predict_proba(previsores_treinamento1)\n",
        "\n",
        "previsoes2 = classificador2.predict(previsores_teste2)\n",
        "previsoes_proba2teste = classificador2.predict_proba(previsores_teste2)\n",
        "previsoes_proba2treino = classificador2.predict_proba(previsores_treinamento2)\n",
        "\n",
        "previsoes3 = classificador3.predict(previsores_teste3)\n",
        "previsoes_proba3teste = classificador3.predict_proba(previsores_teste3)\n",
        "previsoes_proba3treino = classificador3.predict_proba(previsores_treinamento3)\n",
        "\n",
        "#calcula a precisão das classificações (compara as classificações da\n",
        "#regressão com as classificações reais)\n",
        "precisao1_3classes_50 = accuracy_score(classe_teste1, previsoes1)\n",
        "precisao2_3classes_50 = accuracy_score(classe_teste2, previsoes2)\n",
        "precisao3_3classes_50 = accuracy_score(classe_teste3, previsoes3)\n",
        "\n",
        "#gera a matriz de confusão\n",
        "matriz1 = confusion_matrix(classe_teste1, previsoes1)\n",
        "matriz2 = confusion_matrix(classe_teste2, previsoes2)\n",
        "matriz3 = confusion_matrix(classe_teste3, previsoes3)\n",
        "\n",
        "#print(previsoes_proba1)\n",
        "previsoresprobatreino = np.array([np.append(np.append(previsoes_proba1treino[i],previsoes_proba2treino[i]),previsoes_proba3treino[i]) for i in range(len(previsoes_proba1treino))])\n",
        "previsoresprobateste = np.array([np.append(np.append(previsoes_proba1teste[i],previsoes_proba2teste[i]),previsoes_proba3teste[i]) for i in range(len(previsoes_proba1teste))])\n",
        "\n",
        "classificadorgeral.fit(previsoresprobatreino, classe_treinamento3)\n",
        "previsoesgeral = classificadorgeral.predict(previsoresprobateste)\n",
        "precisaogeral_3classes_50 = accuracy_score(classe_teste1, previsoesgeral)\n",
        "matrizgeral = confusion_matrix(classe_teste1, previsoesgeral)\n",
        "\n",
        "print(precisao1_3classes_50,precisao2_3classes_50,precisao3_3classes_50,precisaogeral_3classes_50)\n",
        "print(matrizgeral)"
      ],
      "execution_count": null,
      "outputs": [
        {
          "output_type": "stream",
          "text": [
            "0.5836909871244635 0.5965665236051502 0.630901287553648 0.6137339055793991\n",
            "[[80 20 15]\n",
            " [26 41 17]\n",
            " [ 2 10 22]]\n"
          ],
          "name": "stdout"
        }
      ]
    },
    {
      "cell_type": "markdown",
      "metadata": {
        "id": "6RSPGrS4LcWx"
      },
      "source": [
        "# Redes Neurais (3 classes: II, Ia, outros) test_size = 50%\n",
        "# Bandas (BG + R + I) juntas"
      ]
    },
    {
      "cell_type": "code",
      "metadata": {
        "colab": {
          "base_uri": "https://localhost:8080/"
        },
        "id": "oEqh05spyjSw",
        "outputId": "df2b8960-5925-4e3b-bdad-f50da1927917"
      },
      "source": [
        "#junta os valores de 'variação_g', 'variação_r' e 'variação_i' de uma dada supernova num único array e salva-os na variável 'previsores4'\n",
        "previsores4 = np.asarray(base.iloc[:,2:5])\n",
        "previsores4 = np.array([np.append(np.append(previsores4[:,0][i],previsores4[:,1][i]),previsores4[:,2][i] ) for i in range(len(base))])\n",
        "\n",
        "#salva os tipos na variável 'classe4'\n",
        "classe4 = base.iloc[:,1]\n",
        "#altera os tipos para II, Ia e outros\n",
        "for i, v in enumerate(classe4):\n",
        "    if v!='II' and v!='Ia':\n",
        "        classe4[i]='outros'\n",
        "\n",
        "#divide os dados em previsores de teste e treino, e classes de teste e treino\n",
        "previsores_treinamento4, previsores_teste4, classe_treinamento4, classe_teste4 = train_test_split(previsores4, classe4, test_size=0.50, random_state=1)\n",
        "\n",
        "classificador4 = MLPClassifier(verbose = False, #exibe o erro ao longo das iterações\n",
        "                              max_iter=1000, #determina o número de iterações\n",
        "                              tol = 0.0000010, #valor mínimo pelo o qual o erro deve diminuir. Caso não consiga, interrompe as iterações\n",
        "                              solver = 'lbfgs', #algoritmo usado para a otimização dos pesos\n",
        "                              hidden_layer_sizes=(100,), #(100,70)=1 camada oculta com 100 neurônios e outra com 70\n",
        "                              activation='logistic') #função de ativação\n",
        "\n",
        "classificador4.fit(previsores_treinamento4, classe_treinamento4)\n",
        "previsoes4 = classificador4.predict(previsores_teste4)\n",
        "precisao4_3classes_50 = accuracy_score(classe_teste4, previsoes4)\n",
        "matriz4 = confusion_matrix(classe_teste4, previsoes4)\n",
        "\n",
        "print(precisao4_3classes_50)\n",
        "print(matriz4)"
      ],
      "execution_count": null,
      "outputs": [
        {
          "output_type": "stream",
          "text": [
            "0.6566523605150214\n",
            "[[86 18 11]\n",
            " [27 49  8]\n",
            " [ 5 11 18]]\n"
          ],
          "name": "stdout"
        }
      ]
    },
    {
      "cell_type": "markdown",
      "metadata": {
        "id": "7pUroRnNQ7KO"
      },
      "source": [
        "# Redes Neurais (3 classes: II, Ia, outros) test_size = 40%\n",
        "# Bandas 2 a 2 (BG + R) (BG + I) (R+I)"
      ]
    },
    {
      "cell_type": "code",
      "metadata": {
        "colab": {
          "base_uri": "https://localhost:8080/"
        },
        "id": "z-Xe9jjsRIIm",
        "outputId": "3f4768fb-2b67-475e-e23a-018caa57c2e0"
      },
      "source": [
        "#junta os valores de 'mags_BG' e 'mags_R' de uma dada supernova num único array e salva-os na variável 'previsores1'\n",
        "previsores1 = np.asarray(base.iloc[:,2:4])\n",
        "previsores1 = np.array([np.append(previsores1[:,0][i],previsores1[:,1][i]) for i in range(len(base))])\n",
        "\n",
        "#junta os valores de 'mags_BG' e 'mags_I' de uma dada supernova num único array e salva-os na variável 'previsores2'\n",
        "previsores2 = np.asarray(base.iloc[:,[2,4]])\n",
        "previsores2 = np.array([np.append(previsores2[:,0][i],previsores2[:,1][i]) for i in range(len(base))])\n",
        "\n",
        "#junta os valores de 'mags_R' e 'mags_I' de uma dada supernova num único array e salva-os na variável 'previsores3'\n",
        "previsores3 = np.asarray(base.iloc[:,[3,4]])\n",
        "previsores3 = np.array([np.append(previsores3[:,0][i],previsores3[:,1][i]) for i in range(len(base))])\n",
        "\n",
        "#salva os tipos na variável 'classe1'\n",
        "classe1 = base.iloc[:,1]\n",
        "#altera os tipos para II, Ia e outros\n",
        "for i, v in enumerate(classe1):\n",
        "    if v!='II' and v!='Ia':\n",
        "        classe1[i]='outros'\n",
        "\n",
        "#salva os tipos na variável 'classe2'\n",
        "classe2 = base.iloc[:,1]\n",
        "#altera os tipos para II, Ia e outros\n",
        "for i, v in enumerate(classe2):\n",
        "    if v!='II' and v!='Ia':\n",
        "        classe2[i]='outros'\n",
        "\n",
        "#salva os tipos na variável 'classe3'\n",
        "classe3 = base.iloc[:,1]\n",
        "#altera os tipos para II, Ia e outros\n",
        "for i, v in enumerate(classe3):\n",
        "    if v!='II' and v!='Ia':\n",
        "        classe3[i]='outros'\n",
        "\n",
        "#divide os dados em previsores de teste e treino, e classes de teste e treino, com random_state=1\n",
        "previsores_treinamento1, previsores_teste1, classe_treinamento1, classe_teste1 = train_test_split(previsores1, classe1, test_size=0.40, random_state=1)\n",
        "previsores_treinamento2, previsores_teste2, classe_treinamento2, classe_teste2 = train_test_split(previsores2, classe2, test_size=0.40, random_state=1) \n",
        "previsores_treinamento3, previsores_teste3, classe_treinamento3, classe_teste3 = train_test_split(previsores3, classe3, test_size=0.40, random_state=1) \n",
        "\n",
        "classificador1 = MLPClassifier(verbose = False, #exibe o erro ao longo das iterações\n",
        "                              max_iter=1000, #determina o número de iterações\n",
        "                              tol = 0.0000010, #valor mínimo pelo o qual o erro deve diminuir. Caso não consiga, interrompe as iterações\n",
        "                              solver = 'lbfgs', #algoritmo usado para a otimização dos pesos\n",
        "                              hidden_layer_sizes=(100,), #(100,70)=1 camada oculta com 100 neurônios e outra com 70\n",
        "                              activation='relu') #função de ativação\n",
        "\n",
        "classificador2 = MLPClassifier(verbose = False, #exibe o erro ao longo das iterações\n",
        "                              max_iter=1000, #determina o número de iterações\n",
        "                              tol = 0.0000010, #valor mínimo pelo o qual o erro deve diminuir. Caso não consiga, interrompe as iterações\n",
        "                              solver = 'lbfgs', #algoritmo usado para a otimização dos pesos\n",
        "                              hidden_layer_sizes=(100,), #(100,70)=1 camada oculta com 100 neurônios e outra com 70\n",
        "                              activation='relu') #função de ativação\n",
        "\n",
        "classificador3 = MLPClassifier(verbose = False, #exibe o erro ao longo das iterações\n",
        "                              max_iter=1000, #determina o número de iterações\n",
        "                              tol = 0.0000010, #valor mínimo pelo o qual o erro deve diminuir. Caso não consiga, interrompe as iterações\n",
        "                              solver = 'lbfgs', #algoritmo usado para a otimização dos pesos\n",
        "                              hidden_layer_sizes=(100,), #(100,70)=1 camada oculta com 100 neurônios e outra com 70\n",
        "                              activation='relu') #função de ativação\n",
        "\n",
        "classificadorgeral = MLPClassifier(verbose = False, #exibe o erro ao longo das iterações\n",
        "                              max_iter=1000, #determina o número de iterações\n",
        "                              tol = 0.0000010, #valor mínimo pelo o qual o erro deve diminuir. Caso não consiga, interrompe as iterações\n",
        "                              solver = 'lbfgs', #algoritmo usado para a otimização dos pesos\n",
        "                              hidden_layer_sizes=(100,), #(100,70)=1 camada oculta com 100 neurônios e outra com 70\n",
        "                              activation='relu') #função de ativação\n",
        "\n",
        "#treina a rede neural usando os atributos de treinamento\n",
        "classificador1.fit(previsores_treinamento1, classe_treinamento1)\n",
        "classificador2.fit(previsores_treinamento2, classe_treinamento2)\n",
        "classificador3.fit(previsores_treinamento3, classe_treinamento3)\n",
        "\n",
        "#faz as previsões das classificações dos atributos de teste usando a rede neural já treinada\n",
        "previsoes1 = classificador1.predict(previsores_teste1)\n",
        "previsoes_proba1teste = classificador1.predict_proba(previsores_teste1)\n",
        "previsoes_proba1treino = classificador1.predict_proba(previsores_treinamento1)\n",
        "\n",
        "previsoes2 = classificador2.predict(previsores_teste2)\n",
        "previsoes_proba2teste = classificador2.predict_proba(previsores_teste2)\n",
        "previsoes_proba2treino = classificador2.predict_proba(previsores_treinamento2)\n",
        "\n",
        "previsoes3 = classificador3.predict(previsores_teste3)\n",
        "previsoes_proba3teste = classificador3.predict_proba(previsores_teste3)\n",
        "previsoes_proba3treino = classificador3.predict_proba(previsores_treinamento3)\n",
        "\n",
        "#calcula a precisão das classificações (compara as classificações da\n",
        "#regressão com as classificações reais)\n",
        "precisao1_3classes_40 = accuracy_score(classe_teste1, previsoes1)\n",
        "precisao2_3classes_40 = accuracy_score(classe_teste2, previsoes2)\n",
        "precisao3_3classes_40 = accuracy_score(classe_teste3, previsoes3)\n",
        "\n",
        "#gera a matriz de confusão\n",
        "matriz1 = confusion_matrix(classe_teste1, previsoes1)\n",
        "matriz2 = confusion_matrix(classe_teste2, previsoes2)\n",
        "matriz3 = confusion_matrix(classe_teste3, previsoes3)\n",
        "\n",
        "#print(previsoes_proba1)\n",
        "previsoresprobatreino = np.array([np.append(np.append(previsoes_proba1treino[i],previsoes_proba2treino[i]),previsoes_proba3treino[i]) for i in range(len(previsoes_proba1treino))])\n",
        "previsoresprobateste = np.array([np.append(np.append(previsoes_proba1teste[i],previsoes_proba2teste[i]),previsoes_proba3teste[i]) for i in range(len(previsoes_proba1teste))])\n",
        "\n",
        "classificadorgeral.fit(previsoresprobatreino, classe_treinamento3)\n",
        "previsoesgeral = classificadorgeral.predict(previsoresprobateste)\n",
        "precisaogeral_3classes_40 = accuracy_score(classe_teste1, previsoesgeral)\n",
        "matrizgeral = confusion_matrix(classe_teste1, previsoesgeral)\n",
        "\n",
        "print(precisao1_3classes_40,precisao2_3classes_40,precisao3_3classes_40,precisaogeral_3classes_40)\n",
        "print(matrizgeral)"
      ],
      "execution_count": null,
      "outputs": [
        {
          "output_type": "stream",
          "text": [
            "0.6075268817204301 0.5161290322580645 0.5591397849462365 0.6935483870967742\n",
            "[[74 13  4]\n",
            " [22 40  5]\n",
            " [ 5  8 15]]\n"
          ],
          "name": "stdout"
        }
      ]
    },
    {
      "cell_type": "markdown",
      "metadata": {
        "id": "WlHzlabUQ7vb"
      },
      "source": [
        "# Redes Neurais (3 classes: II, Ia, outros) test_size = 40%\n",
        "# Bandas (BG + R + I) juntas"
      ]
    },
    {
      "cell_type": "code",
      "metadata": {
        "colab": {
          "base_uri": "https://localhost:8080/"
        },
        "id": "EoCsdlAnRPfK",
        "outputId": "4c68a8d0-8e89-4f5a-85a2-803fc314794d"
      },
      "source": [
        "#junta os valores de 'variação_g', 'variação_r' e 'variação_i' de uma dada supernova num único array e salva-os na variável 'previsores4'\n",
        "previsores4 = np.asarray(base.iloc[:,2:5])\n",
        "previsores4 = np.array([np.append(np.append(previsores4[:,0][i],previsores4[:,1][i]),previsores4[:,2][i] ) for i in range(len(base))])\n",
        "\n",
        "#salva os tipos na variável 'classe4'\n",
        "classe4 = base.iloc[:,1]\n",
        "#altera os tipos para II, Ia e outros\n",
        "for i, v in enumerate(classe4):\n",
        "    if v!='II' and v!='Ia':\n",
        "        classe4[i]='outros'\n",
        "\n",
        "#divide os dados em previsores de teste e treino, e classes de teste e treino\n",
        "previsores_treinamento4, previsores_teste4, classe_treinamento4, classe_teste4 = train_test_split(previsores4, classe4, test_size=0.40, random_state=1)\n",
        "\n",
        "classificador4 = MLPClassifier(verbose = False, #exibe o erro ao longo das iterações\n",
        "                              max_iter=1000, #determina o número de iterações\n",
        "                              tol = 0.0000010, #valor mínimo pelo o qual o erro deve diminuir. Caso não consiga, interrompe as iterações\n",
        "                              solver = 'lbfgs', #algoritmo usado para a otimização dos pesos\n",
        "                              hidden_layer_sizes=(100,), #(100,70)=1 camada oculta com 100 neurônios e outra com 70\n",
        "                              activation='logistic') #função de ativação\n",
        "\n",
        "classificador4.fit(previsores_treinamento4, classe_treinamento4)\n",
        "previsoes4 = classificador4.predict(previsores_teste4)\n",
        "precisao4_3classes_40 = accuracy_score(classe_teste4, previsoes4)\n",
        "matriz4 = confusion_matrix(classe_teste4, previsoes4)\n",
        "\n",
        "print(precisao4_3classes_40)\n",
        "print(matriz4)"
      ],
      "execution_count": null,
      "outputs": [
        {
          "output_type": "stream",
          "text": [
            "0.6397849462365591\n",
            "[[67 19  5]\n",
            " [26 35  6]\n",
            " [ 4  7 17]]\n"
          ],
          "name": "stdout"
        }
      ]
    },
    {
      "cell_type": "markdown",
      "metadata": {
        "id": "v2HOOA2GbgJ_"
      },
      "source": [
        "# Redes Neurais (2 classes: II, outros) test_size = 50%\n",
        "# Bandas 2 a 2 (BG + R) (BG + I) (R+I)"
      ]
    },
    {
      "cell_type": "code",
      "metadata": {
        "colab": {
          "base_uri": "https://localhost:8080/"
        },
        "id": "_Bfx_r46bgKC",
        "outputId": "a195e68d-d3f9-4b24-a180-8891bf1302cc"
      },
      "source": [
        "#junta os valores de 'mags_BG' e 'mags_R' de uma dada supernova num único array e salva-os na variável 'previsores1'\n",
        "previsores1 = np.asarray(base.iloc[:,2:4])\n",
        "previsores1 = np.array([np.append(previsores1[:,0][i],previsores1[:,1][i]) for i in range(len(base))])\n",
        "\n",
        "#junta os valores de 'mags_BG' e 'mags_I' de uma dada supernova num único array e salva-os na variável 'previsores2'\n",
        "previsores2 = np.asarray(base.iloc[:,[2,4]])\n",
        "previsores2 = np.array([np.append(previsores2[:,0][i],previsores2[:,1][i]) for i in range(len(base))])\n",
        "\n",
        "#junta os valores de 'mags_R' e 'mags_I' de uma dada supernova num único array e salva-os na variável 'previsores3'\n",
        "previsores3 = np.asarray(base.iloc[:,[3,4]])\n",
        "previsores3 = np.array([np.append(previsores3[:,0][i],previsores3[:,1][i]) for i in range(len(base))])\n",
        "\n",
        "#salva os tipos na variável 'classe1'\n",
        "classe1 = base.iloc[:,1]\n",
        "#altera os tipos para II, Ia e outros\n",
        "for i, v in enumerate(classe1):\n",
        "    if v!='II':\n",
        "        classe1[i]='outros'\n",
        "\n",
        "#salva os tipos na variável 'classe2'\n",
        "classe2 = base.iloc[:,1]\n",
        "#altera os tipos para II, Ia e outros\n",
        "for i, v in enumerate(classe2):\n",
        "    if v!='II':\n",
        "        classe2[i]='outros'\n",
        "\n",
        "#salva os tipos na variável 'classe3'\n",
        "classe3 = base.iloc[:,1]\n",
        "#altera os tipos para II, Ia e outros\n",
        "for i, v in enumerate(classe3):\n",
        "    if v!='II':\n",
        "        classe3[i]='outros'\n",
        "\n",
        "#divide os dados em previsores de teste e treino, e classes de teste e treino, com random_state=1\n",
        "previsores_treinamento1, previsores_teste1, classe_treinamento1, classe_teste1 = train_test_split(previsores1, classe1, test_size=0.50, random_state=1)\n",
        "previsores_treinamento2, previsores_teste2, classe_treinamento2, classe_teste2 = train_test_split(previsores2, classe2, test_size=0.50, random_state=1) \n",
        "previsores_treinamento3, previsores_teste3, classe_treinamento3, classe_teste3 = train_test_split(previsores3, classe3, test_size=0.50, random_state=1) \n",
        "\n",
        "classificador1 = MLPClassifier(verbose = False, #exibe o erro ao longo das iterações\n",
        "                              max_iter=1000, #determina o número de iterações\n",
        "                              tol = 0.0000010, #valor mínimo pelo o qual o erro deve diminuir. Caso não consiga, interrompe as iterações\n",
        "                              solver = 'lbfgs', #algoritmo usado para a otimização dos pesos\n",
        "                              hidden_layer_sizes=(100,), #(100,70)=1 camada oculta com 100 neurônios e outra com 70\n",
        "                              activation='relu') #função de ativação\n",
        "\n",
        "classificador2 = MLPClassifier(verbose = False, #exibe o erro ao longo das iterações\n",
        "                              max_iter=1000, #determina o número de iterações\n",
        "                              tol = 0.0000010, #valor mínimo pelo o qual o erro deve diminuir. Caso não consiga, interrompe as iterações\n",
        "                              solver = 'lbfgs', #algoritmo usado para a otimização dos pesos\n",
        "                              hidden_layer_sizes=(100,), #(100,70)=1 camada oculta com 100 neurônios e outra com 70\n",
        "                              activation='relu') #função de ativação\n",
        "\n",
        "classificador3 = MLPClassifier(verbose = False, #exibe o erro ao longo das iterações\n",
        "                              max_iter=1000, #determina o número de iterações\n",
        "                              tol = 0.0000010, #valor mínimo pelo o qual o erro deve diminuir. Caso não consiga, interrompe as iterações\n",
        "                              solver = 'lbfgs', #algoritmo usado para a otimização dos pesos\n",
        "                              hidden_layer_sizes=(100,), #(100,70)=1 camada oculta com 100 neurônios e outra com 70\n",
        "                              activation='relu') #função de ativação\n",
        "\n",
        "classificadorgeral = MLPClassifier(verbose = False, #exibe o erro ao longo das iterações\n",
        "                              max_iter=1000, #determina o número de iterações\n",
        "                              tol = 0.0000010, #valor mínimo pelo o qual o erro deve diminuir. Caso não consiga, interrompe as iterações\n",
        "                              solver = 'lbfgs', #algoritmo usado para a otimização dos pesos\n",
        "                              hidden_layer_sizes=(100,), #(100,70)=1 camada oculta com 100 neurônios e outra com 70\n",
        "                              activation='relu') #função de ativação\n",
        "\n",
        "#treina a rede neural usando os atributos de treinamento\n",
        "classificador1.fit(previsores_treinamento1, classe_treinamento1)\n",
        "classificador2.fit(previsores_treinamento2, classe_treinamento2)\n",
        "classificador3.fit(previsores_treinamento3, classe_treinamento3)\n",
        "\n",
        "#faz as previsões das classificações dos atributos de teste usando a rede neural já treinada\n",
        "previsoes1 = classificador1.predict(previsores_teste1)\n",
        "previsoes_proba1teste = classificador1.predict_proba(previsores_teste1)\n",
        "previsoes_proba1treino = classificador1.predict_proba(previsores_treinamento1)\n",
        "\n",
        "previsoes2 = classificador2.predict(previsores_teste2)\n",
        "previsoes_proba2teste = classificador2.predict_proba(previsores_teste2)\n",
        "previsoes_proba2treino = classificador2.predict_proba(previsores_treinamento2)\n",
        "\n",
        "previsoes3 = classificador3.predict(previsores_teste3)\n",
        "previsoes_proba3teste = classificador3.predict_proba(previsores_teste3)\n",
        "previsoes_proba3treino = classificador3.predict_proba(previsores_treinamento3)\n",
        "\n",
        "#calcula a precisão das classificações (compara as classificações da\n",
        "#regressão com as classificações reais)\n",
        "precisao1_2classes_50 = accuracy_score(classe_teste1, previsoes1)\n",
        "precisao2_2classes_50 = accuracy_score(classe_teste2, previsoes2)\n",
        "precisao3_2classes_50 = accuracy_score(classe_teste3, previsoes3)\n",
        "\n",
        "#gera a matriz de confusão\n",
        "matriz1 = confusion_matrix(classe_teste1, previsoes1)\n",
        "matriz2 = confusion_matrix(classe_teste2, previsoes2)\n",
        "matriz3 = confusion_matrix(classe_teste3, previsoes3)\n",
        "\n",
        "#print(previsoes_proba1)\n",
        "previsoresprobatreino = np.array([np.append(np.append(previsoes_proba1treino[i],previsoes_proba2treino[i]),previsoes_proba3treino[i]) for i in range(len(previsoes_proba1treino))])\n",
        "previsoresprobateste = np.array([np.append(np.append(previsoes_proba1teste[i],previsoes_proba2teste[i]),previsoes_proba3teste[i]) for i in range(len(previsoes_proba1teste))])\n",
        "\n",
        "classificadorgeral.fit(previsoresprobatreino, classe_treinamento3)\n",
        "previsoesgeral = classificadorgeral.predict(previsoresprobateste)\n",
        "precisaogeral_2classes_50 = accuracy_score(classe_teste1, previsoesgeral)\n",
        "matrizgeral = confusion_matrix(classe_teste1, previsoesgeral)\n",
        "\n",
        "print(precisao1_2classes_50,precisao2_2classes_50,precisao3_2classes_50,precisaogeral_2classes_50)\n",
        "print(matrizgeral)"
      ],
      "execution_count": null,
      "outputs": [
        {
          "output_type": "stream",
          "text": [
            "0.6008583690987125 0.6051502145922747 0.6695278969957081 0.7296137339055794\n",
            "[[83 32]\n",
            " [31 87]]\n"
          ],
          "name": "stdout"
        }
      ]
    },
    {
      "cell_type": "markdown",
      "metadata": {
        "id": "Sxwu6kLLbgKG"
      },
      "source": [
        "# Redes Neurais (2 classes: II, outros) test_size = 50%\n",
        "# Bandas (BG + R + I) juntas"
      ]
    },
    {
      "cell_type": "code",
      "metadata": {
        "colab": {
          "base_uri": "https://localhost:8080/"
        },
        "id": "Vqd1G-QJbgKH",
        "outputId": "860f203e-f874-4bf1-ad87-36104495b2f7"
      },
      "source": [
        "#junta os valores de 'variação_g', 'variação_r' e 'variação_i' de uma dada supernova num único array e salva-os na variável 'previsores4'\n",
        "previsores4 = np.asarray(base.iloc[:,2:5])\n",
        "previsores4 = np.array([np.append(np.append(previsores4[:,0][i],previsores4[:,1][i]),previsores4[:,2][i] ) for i in range(len(base))])\n",
        "\n",
        "#salva os tipos na variável 'classe4'\n",
        "classe4 = base.iloc[:,1]\n",
        "#altera os tipos para II, Ia e outros\n",
        "for i, v in enumerate(classe4):\n",
        "    if v!='II':\n",
        "        classe4[i]='outros'\n",
        "\n",
        "#divide os dados em previsores de teste e treino, e classes de teste e treino\n",
        "previsores_treinamento4, previsores_teste4, classe_treinamento4, classe_teste4 = train_test_split(previsores4, classe4, test_size=0.50, random_state=1)\n",
        "\n",
        "classificador4 = MLPClassifier(verbose = False, #exibe o erro ao longo das iterações\n",
        "                              max_iter=1000, #determina o número de iterações\n",
        "                              tol = 0.0000010, #valor mínimo pelo o qual o erro deve diminuir. Caso não consiga, interrompe as iterações\n",
        "                              solver = 'lbfgs', #algoritmo usado para a otimização dos pesos\n",
        "                              hidden_layer_sizes=(100,), #(100,70)=1 camada oculta com 100 neurônios e outra com 70\n",
        "                              activation='logistic') #função de ativação\n",
        "\n",
        "classificador4.fit(previsores_treinamento4, classe_treinamento4)\n",
        "previsoes4 = classificador4.predict(previsores_teste4)\n",
        "precisao4_2classes_50 = accuracy_score(classe_teste4, previsoes4)\n",
        "matriz4 = confusion_matrix(classe_teste4, previsoes4)\n",
        "\n",
        "print(precisao4_2classes_50)\n",
        "print(matriz4)"
      ],
      "execution_count": null,
      "outputs": [
        {
          "output_type": "stream",
          "text": [
            "0.630901287553648\n",
            "[[92 23]\n",
            " [63 55]]\n"
          ],
          "name": "stdout"
        }
      ]
    },
    {
      "cell_type": "markdown",
      "metadata": {
        "id": "13RoM74KbgKI"
      },
      "source": [
        "# Redes Neurais (2 classes: II, outros) test_size = 40%\n",
        "# Bandas 2 a 2 (BG + R) (BG + I) (R+I)"
      ]
    },
    {
      "cell_type": "code",
      "metadata": {
        "colab": {
          "base_uri": "https://localhost:8080/"
        },
        "id": "0HupGdZRbgKJ",
        "outputId": "ace70161-f908-4a86-ee94-c07065c831da"
      },
      "source": [
        "#junta os valores de 'mags_BG' e 'mags_R' de uma dada supernova num único array e salva-os na variável 'previsores1'\n",
        "previsores1 = np.asarray(base.iloc[:,2:4])\n",
        "previsores1 = np.array([np.append(previsores1[:,0][i],previsores1[:,1][i]) for i in range(len(base))])\n",
        "\n",
        "#junta os valores de 'mags_BG' e 'mags_I' de uma dada supernova num único array e salva-os na variável 'previsores2'\n",
        "previsores2 = np.asarray(base.iloc[:,[2,4]])\n",
        "previsores2 = np.array([np.append(previsores2[:,0][i],previsores2[:,1][i]) for i in range(len(base))])\n",
        "\n",
        "#junta os valores de 'mags_R' e 'mags_I' de uma dada supernova num único array e salva-os na variável 'previsores3'\n",
        "previsores3 = np.asarray(base.iloc[:,[3,4]])\n",
        "previsores3 = np.array([np.append(previsores3[:,0][i],previsores3[:,1][i]) for i in range(len(base))])\n",
        "\n",
        "#salva os tipos na variável 'classe1'\n",
        "classe1 = base.iloc[:,1]\n",
        "#altera os tipos para II, Ia e outros\n",
        "for i, v in enumerate(classe1):\n",
        "    if v!='II':\n",
        "        classe1[i]='outros'\n",
        "\n",
        "#salva os tipos na variável 'classe2'\n",
        "classe2 = base.iloc[:,1]\n",
        "#altera os tipos para II, Ia e outros\n",
        "for i, v in enumerate(classe2):\n",
        "    if v!='II':\n",
        "        classe2[i]='outros'\n",
        "\n",
        "#salva os tipos na variável 'classe3'\n",
        "classe3 = base.iloc[:,1]\n",
        "#altera os tipos para II, Ia e outros\n",
        "for i, v in enumerate(classe3):\n",
        "    if v!='II':\n",
        "        classe3[i]='outros'\n",
        "\n",
        "#divide os dados em previsores de teste e treino, e classes de teste e treino, com random_state=1\n",
        "previsores_treinamento1, previsores_teste1, classe_treinamento1, classe_teste1 = train_test_split(previsores1, classe1, test_size=0.40, random_state=1)\n",
        "previsores_treinamento2, previsores_teste2, classe_treinamento2, classe_teste2 = train_test_split(previsores2, classe2, test_size=0.40, random_state=1) \n",
        "previsores_treinamento3, previsores_teste3, classe_treinamento3, classe_teste3 = train_test_split(previsores3, classe3, test_size=0.40, random_state=1) \n",
        "\n",
        "classificador1 = MLPClassifier(verbose = False, #exibe o erro ao longo das iterações\n",
        "                              max_iter=1000, #determina o número de iterações\n",
        "                              tol = 0.0000010, #valor mínimo pelo o qual o erro deve diminuir. Caso não consiga, interrompe as iterações\n",
        "                              solver = 'lbfgs', #algoritmo usado para a otimização dos pesos\n",
        "                              hidden_layer_sizes=(100,), #(100,70)=1 camada oculta com 100 neurônios e outra com 70\n",
        "                              activation='relu') #função de ativação\n",
        "\n",
        "classificador2 = MLPClassifier(verbose = False, #exibe o erro ao longo das iterações\n",
        "                              max_iter=1000, #determina o número de iterações\n",
        "                              tol = 0.0000010, #valor mínimo pelo o qual o erro deve diminuir. Caso não consiga, interrompe as iterações\n",
        "                              solver = 'lbfgs', #algoritmo usado para a otimização dos pesos\n",
        "                              hidden_layer_sizes=(100,), #(100,70)=1 camada oculta com 100 neurônios e outra com 70\n",
        "                              activation='relu') #função de ativação\n",
        "\n",
        "classificador3 = MLPClassifier(verbose = False, #exibe o erro ao longo das iterações\n",
        "                              max_iter=1000, #determina o número de iterações\n",
        "                              tol = 0.0000010, #valor mínimo pelo o qual o erro deve diminuir. Caso não consiga, interrompe as iterações\n",
        "                              solver = 'lbfgs', #algoritmo usado para a otimização dos pesos\n",
        "                              hidden_layer_sizes=(100,), #(100,70)=1 camada oculta com 100 neurônios e outra com 70\n",
        "                              activation='relu') #função de ativação\n",
        "\n",
        "classificadorgeral = MLPClassifier(verbose = False, #exibe o erro ao longo das iterações\n",
        "                              max_iter=1000, #determina o número de iterações\n",
        "                              tol = 0.0000010, #valor mínimo pelo o qual o erro deve diminuir. Caso não consiga, interrompe as iterações\n",
        "                              solver = 'lbfgs', #algoritmo usado para a otimização dos pesos\n",
        "                              hidden_layer_sizes=(100,), #(100,70)=1 camada oculta com 100 neurônios e outra com 70\n",
        "                              activation='relu') #função de ativação\n",
        "\n",
        "#treina a rede neural usando os atributos de treinamento\n",
        "classificador1.fit(previsores_treinamento1, classe_treinamento1)\n",
        "classificador2.fit(previsores_treinamento2, classe_treinamento2)\n",
        "classificador3.fit(previsores_treinamento3, classe_treinamento3)\n",
        "\n",
        "#faz as previsões das classificações dos atributos de teste usando a rede neural já treinada\n",
        "previsoes1 = classificador1.predict(previsores_teste1)\n",
        "previsoes_proba1teste = classificador1.predict_proba(previsores_teste1)\n",
        "previsoes_proba1treino = classificador1.predict_proba(previsores_treinamento1)\n",
        "\n",
        "previsoes2 = classificador2.predict(previsores_teste2)\n",
        "previsoes_proba2teste = classificador2.predict_proba(previsores_teste2)\n",
        "previsoes_proba2treino = classificador2.predict_proba(previsores_treinamento2)\n",
        "\n",
        "previsoes3 = classificador3.predict(previsores_teste3)\n",
        "previsoes_proba3teste = classificador3.predict_proba(previsores_teste3)\n",
        "previsoes_proba3treino = classificador3.predict_proba(previsores_treinamento3)\n",
        "\n",
        "#calcula a precisão das classificações (compara as classificações da\n",
        "#regressão com as classificações reais)\n",
        "precisao1_2classes_40 = accuracy_score(classe_teste1, previsoes1)\n",
        "precisao2_2classes_40 = accuracy_score(classe_teste2, previsoes2)\n",
        "precisao3_2classes_40 = accuracy_score(classe_teste3, previsoes3)\n",
        "\n",
        "#gera a matriz de confusão\n",
        "matriz1 = confusion_matrix(classe_teste1, previsoes1)\n",
        "matriz2 = confusion_matrix(classe_teste2, previsoes2)\n",
        "matriz3 = confusion_matrix(classe_teste3, previsoes3)\n",
        "\n",
        "#print(previsoes_proba1)\n",
        "previsoresprobatreino = np.array([np.append(np.append(previsoes_proba1treino[i],previsoes_proba2treino[i]),previsoes_proba3treino[i]) for i in range(len(previsoes_proba1treino))])\n",
        "previsoresprobateste = np.array([np.append(np.append(previsoes_proba1teste[i],previsoes_proba2teste[i]),previsoes_proba3teste[i]) for i in range(len(previsoes_proba1teste))])\n",
        "\n",
        "classificadorgeral.fit(previsoresprobatreino, classe_treinamento3)\n",
        "previsoesgeral = classificadorgeral.predict(previsoresprobateste)\n",
        "precisaogeral_2classes_40 = accuracy_score(classe_teste1, previsoesgeral)\n",
        "matrizgeral = confusion_matrix(classe_teste1, previsoesgeral)\n",
        "\n",
        "print(precisao1_2classes_40,precisao2_2classes_40,precisao3_2classes_40,precisaogeral_2classes_40)\n",
        "print(matrizgeral)"
      ],
      "execution_count": null,
      "outputs": [
        {
          "output_type": "stream",
          "text": [
            "0.6182795698924731 0.7365591397849462 0.6989247311827957 0.7365591397849462\n",
            "[[66 25]\n",
            " [24 71]]\n"
          ],
          "name": "stdout"
        }
      ]
    },
    {
      "cell_type": "markdown",
      "metadata": {
        "id": "bHuAbJTQbgKL"
      },
      "source": [
        "# Redes Neurais (2 classes: II, outros) test_size = 40%\n",
        "# Bandas (BG + R + I) juntas"
      ]
    },
    {
      "cell_type": "code",
      "metadata": {
        "colab": {
          "base_uri": "https://localhost:8080/"
        },
        "id": "Z834jqlbbgKL",
        "outputId": "a19f83a3-2331-42b3-ff1a-a1500bf35f39"
      },
      "source": [
        "#junta os valores de 'variação_g', 'variação_r' e 'variação_i' de uma dada supernova num único array e salva-os na variável 'previsores4'\n",
        "previsores4 = np.asarray(base.iloc[:,2:5])\n",
        "previsores4 = np.array([np.append(np.append(previsores4[:,0][i],previsores4[:,1][i]),previsores4[:,2][i] ) for i in range(len(base))])\n",
        "\n",
        "#salva os tipos na variável 'classe4'\n",
        "classe4 = base.iloc[:,1]\n",
        "#altera os tipos para II, Ia e outros\n",
        "for i, v in enumerate(classe4):\n",
        "    if v!='II':\n",
        "        classe4[i]='outros'\n",
        "\n",
        "#divide os dados em previsores de teste e treino, e classes de teste e treino\n",
        "previsores_treinamento4, previsores_teste4, classe_treinamento4, classe_teste4 = train_test_split(previsores4, classe4, test_size=0.40, random_state=1)\n",
        "\n",
        "classificador4 = MLPClassifier(verbose = False, #exibe o erro ao longo das iterações\n",
        "                              max_iter=1000, #determina o número de iterações\n",
        "                              tol = 0.0000010, #valor mínimo pelo o qual o erro deve diminuir. Caso não consiga, interrompe as iterações\n",
        "                              solver = 'lbfgs', #algoritmo usado para a otimização dos pesos\n",
        "                              hidden_layer_sizes=(100,), #(100,70)=1 camada oculta com 100 neurônios e outra com 70\n",
        "                              activation='logistic') #função de ativação\n",
        "\n",
        "classificador4.fit(previsores_treinamento4, classe_treinamento4)\n",
        "previsoes4 = classificador4.predict(previsores_teste4)\n",
        "precisao4_2classes_40 = accuracy_score(classe_teste4, previsoes4)\n",
        "matriz4 = confusion_matrix(classe_teste4, previsoes4)\n",
        "\n",
        "print(precisao4_2classes_40)\n",
        "print(matriz4)"
      ],
      "execution_count": null,
      "outputs": [
        {
          "output_type": "stream",
          "text": [
            "0.7473118279569892\n",
            "[[66 25]\n",
            " [22 73]]\n"
          ],
          "name": "stdout"
        }
      ]
    },
    {
      "cell_type": "markdown",
      "metadata": {
        "id": "3r4vOoTeP8TS"
      },
      "source": [
        "# Gráfico das bandas B+G, R, I comparando a precisão das Redes Neurais com 2 e 3 classes e com test_size de 50% e 40%; para uma combinação de bandas 2 a 2 e para as 3 bandas juntas."
      ]
    },
    {
      "cell_type": "code",
      "metadata": {
        "colab": {
          "base_uri": "https://localhost:8080/",
          "height": 499
        },
        "id": "x4hTsXyqNN_x",
        "outputId": "f652cef5-4381-4b46-9aa6-e74abd6fe132"
      },
      "source": [
        "plt.figure(figsize=(8,8))\n",
        "\n",
        "plt.plot(\"3 classes 50%\",precisao1_3classes_50,'bv',label='BG + R')\n",
        "plt.plot(\"3 classes 50%\",precisao2_3classes_50,'b>',label='BG + I')\n",
        "plt.plot(\"3 classes 50%\",precisao3_3classes_50,'b<',label='R + I')\n",
        "plt.plot(\"3 classes 50%\",precisaogeral_3classes_50,'ro',label='Combinação das duplas')\n",
        "plt.plot(\"3 classes 50%\",precisao4_3classes_50,'gs',label='BG + R + I')\n",
        "\n",
        "plt.plot(\"3 classes 40%\",precisao1_3classes_40,'bv')\n",
        "plt.plot(\"3 classes 40%\",precisao2_3classes_40,'b>')\n",
        "plt.plot(\"3 classes 40%\",precisao3_3classes_40,'b<')\n",
        "plt.plot(\"3 classes 40%\",precisaogeral_3classes_40,'ro')\n",
        "plt.plot(\"3 classes 40%\",precisao4_3classes_40,'gs')\n",
        "\n",
        "plt.plot(\"2 classes 50%\",precisao1_2classes_50,'bv')\n",
        "plt.plot(\"2 classes 50%\",precisao2_2classes_50,'b>')\n",
        "plt.plot(\"2 classes 50%\",precisao3_2classes_50,'b<')\n",
        "plt.plot(\"2 classes 50%\",precisaogeral_2classes_50,'ro')\n",
        "plt.plot(\"2 classes 50%\",precisao4_2classes_50,'gs')\n",
        "\n",
        "plt.plot(\"2 classes 40%\",precisao1_2classes_40,'bv')\n",
        "plt.plot(\"2 classes 40%\",precisao2_2classes_40,'b>')\n",
        "plt.plot(\"2 classes 40%\",precisao3_2classes_40,'b<')\n",
        "plt.plot(\"2 classes 40%\",precisaogeral_2classes_40,'ro')\n",
        "plt.plot(\"2 classes 40%\",precisao4_2classes_40,'gs')\n",
        "\n",
        "plt.title(\"Porcentagem de acerto do treinamento das bandas B+G, R e I com Redes Neurais\")\n",
        "plt.grid()\n",
        "plt.legend(ncol=1)\n",
        "plt.savefig(\"bandas_BG_R_I.png\")\n",
        "plt.show()"
      ],
      "execution_count": 118,
      "outputs": [
        {
          "output_type": "display_data",
          "data": {
            "image/png": "[encoded data removed]",
            "text/plain": [
              "<Figure size 576x576 with 1 Axes>"
            ]
          },
          "metadata": {
            "tags": [],
            "needs_background": "light"
          }
        }
      ]
    }
  ]
}