{
  "nbformat": 4,
  "nbformat_minor": 0,
  "metadata": {
    "colab": {
      "name": "projeto tratamento de dados BGU.ipynb",
      "provenance": [],
      "collapsed_sections": [
        "baiKjZAhX8T4"
      ]
    },
    "kernelspec": {
      "display_name": "Python 3",
      "name": "python3"
    }
  },
  "cells": [
    {
      "cell_type": "markdown",
      "metadata": {
        "id": "baiKjZAhX8T4"
      },
      "source": [
        "# Importação de drives e pacotes"
      ]
    },
    {
      "cell_type": "code",
      "metadata": {
        "id": "M-2T7YNdd3va",
        "colab": {
          "base_uri": "https://localhost:8080/"
        },
        "outputId": "f1c15fdb-0386-4419-fbdc-28713a5fe116"
      },
      "source": [
        "!pip install PyDrive"
      ],
      "execution_count": null,
      "outputs": [
        {
          "output_type": "stream",
          "text": [
            "Requirement already satisfied: PyDrive in /usr/local/lib/python3.6/dist-packages (1.3.1)\n",
            "Requirement already satisfied: google-api-python-client>=1.2 in /usr/local/lib/python3.6/dist-packages (from PyDrive) (1.7.12)\n",
            "Requirement already satisfied: oauth2client>=4.0.0 in /usr/local/lib/python3.6/dist-packages (from PyDrive) (4.1.3)\n",
            "Requirement already satisfied: PyYAML>=3.0 in /usr/local/lib/python3.6/dist-packages (from PyDrive) (3.13)\n",
            "Requirement already satisfied: google-auth-httplib2>=0.0.3 in /usr/local/lib/python3.6/dist-packages (from google-api-python-client>=1.2->PyDrive) (0.0.4)\n",
            "Requirement already satisfied: uritemplate<4dev,>=3.0.0 in /usr/local/lib/python3.6/dist-packages (from google-api-python-client>=1.2->PyDrive) (3.0.1)\n",
            "Requirement already satisfied: httplib2<1dev,>=0.17.0 in /usr/local/lib/python3.6/dist-packages (from google-api-python-client>=1.2->PyDrive) (0.17.4)\n",
            "Requirement already satisfied: six<2dev,>=1.6.1 in /usr/local/lib/python3.6/dist-packages (from google-api-python-client>=1.2->PyDrive) (1.15.0)\n",
            "Requirement already satisfied: google-auth>=1.4.1 in /usr/local/lib/python3.6/dist-packages (from google-api-python-client>=1.2->PyDrive) (1.17.2)\n",
            "Requirement already satisfied: rsa>=3.1.4 in /usr/local/lib/python3.6/dist-packages (from oauth2client>=4.0.0->PyDrive) (4.6)\n",
            "Requirement already satisfied: pyasn1>=0.1.7 in /usr/local/lib/python3.6/dist-packages (from oauth2client>=4.0.0->PyDrive) (0.4.8)\n",
            "Requirement already satisfied: pyasn1-modules>=0.0.5 in /usr/local/lib/python3.6/dist-packages (from oauth2client>=4.0.0->PyDrive) (0.2.8)\n",
            "Requirement already satisfied: cachetools<5.0,>=2.0.0 in /usr/local/lib/python3.6/dist-packages (from google-auth>=1.4.1->google-api-python-client>=1.2->PyDrive) (4.1.1)\n",
            "Requirement already satisfied: setuptools>=40.3.0 in /usr/local/lib/python3.6/dist-packages (from google-auth>=1.4.1->google-api-python-client>=1.2->PyDrive) (50.3.2)\n"
          ],
          "name": "stdout"
        }
      ]
    },
    {
      "cell_type": "code",
      "metadata": {
        "id": "zu8RHZwGw6Cg"
      },
      "source": [
        "from pydrive.auth import GoogleAuth\n",
        "from pydrive.drive import GoogleDrive\n",
        "from google.colab import auth\n",
        "from oauth2client.client import GoogleCredentials"
      ],
      "execution_count": null,
      "outputs": []
    },
    {
      "cell_type": "code",
      "metadata": {
        "id": "-lWvNHPCw5_j"
      },
      "source": [
        "auth.authenticate_user()\n",
        "gauth = GoogleAuth()\n",
        "gauth.credentials = GoogleCredentials.get_application_default()\n",
        "drive = GoogleDrive(gauth)"
      ],
      "execution_count": null,
      "outputs": []
    },
    {
      "cell_type": "code",
      "metadata": {
        "id": "TD8yHIGzw587"
      },
      "source": [
        "downloaded = drive.CreateFile({'id':\"1mzYOcNQ4htKilBEs4uQnwKBIkk3YNauW\"})   # replace the id with id of file you want to access\n",
        "downloaded.GetContentFile('The Open Supernova Catalog Filtrado.csv')        # replace the file name with your file\n",
        "\n",
        "downloaded = drive.CreateFile({'id':\"1hsaoYVOvSO89Nv1wJBefKvNTK5zAXF3z\"})   # replace the id with id of file you want to access\n",
        "downloaded.GetContentFile('nomes_supernovas_rodrigo.csv')        # replace the file name with your file"
      ],
      "execution_count": null,
      "outputs": []
    },
    {
      "cell_type": "code",
      "metadata": {
        "id": "EHinhtkmaxDg"
      },
      "source": [
        "import pandas as pd\n",
        "import numpy as np\n",
        "import matplotlib.pyplot as plt\n",
        "from astropy.time import Time"
      ],
      "execution_count": null,
      "outputs": []
    },
    {
      "cell_type": "markdown",
      "metadata": {
        "id": "QyCXokNvYDRp"
      },
      "source": [
        "# Parte 1 do projeto - Filtagem de dados"
      ]
    },
    {
      "cell_type": "code",
      "metadata": {
        "id": "2oJRzuA9a0UI"
      },
      "source": [
        "catalogo = pd.read_csv(\"The Open Supernova Catalog Filtrado.csv\")"
      ],
      "execution_count": null,
      "outputs": []
    },
    {
      "cell_type": "code",
      "metadata": {
        "id": "kTaeBOETiL_H",
        "colab": {
          "base_uri": "https://localhost:8080/"
        },
        "outputId": "a11d0ae4-dd97-4ee0-8f96-9a768a8247fe"
      },
      "source": [
        "catalogo.keys()"
      ],
      "execution_count": null,
      "outputs": [
        {
          "output_type": "execute_result",
          "data": {
            "text/plain": [
              "Index(['Name', 'mmax', 'R.A.', 'Dec.', 'z', 'Type', 'Phot.'], dtype='object')"
            ]
          },
          "metadata": {
            "tags": []
          },
          "execution_count": 7
        }
      ]
    },
    {
      "cell_type": "code",
      "metadata": {
        "id": "u2F7QifZbUKo",
        "colab": {
          "base_uri": "https://localhost:8080/"
        },
        "outputId": "7854b659-294f-4b61-d523-be575b335ca5"
      },
      "source": [
        "# apagando as colunas que nao usaremos\n",
        "\n",
        "catalogo = catalogo.drop(['mmax'],axis=1)\n",
        "catalogo = catalogo.drop(['R.A.'],axis=1)\n",
        "catalogo = catalogo.drop(['Dec.'],axis=1)\n",
        "catalogo = catalogo.drop(['z'],axis=1)\n",
        "catalogo = catalogo.drop(['Type'],axis=1)\n",
        "\n",
        "catalogo.keys(), len(catalogo)"
      ],
      "execution_count": null,
      "outputs": [
        {
          "output_type": "execute_result",
          "data": {
            "text/plain": [
              "(Index(['Name', 'Phot.'], dtype='object'), 9821)"
            ]
          },
          "metadata": {
            "tags": []
          },
          "execution_count": 8
        }
      ]
    },
    {
      "cell_type": "code",
      "metadata": {
        "id": "ip3GRZnxFsuc",
        "colab": {
          "base_uri": "https://localhost:8080/"
        },
        "outputId": "0330eeb5-c3a1-48aa-eda9-40510627783c"
      },
      "source": [
        "!pip install wget"
      ],
      "execution_count": null,
      "outputs": [
        {
          "output_type": "stream",
          "text": [
            "Collecting wget\n",
            "  Downloading https://files.pythonhosted.org/packages/47/6a/62e288da7bcda82b935ff0c6cfe542970f04e29c756b0e147251b2fb251f/wget-3.2.zip\n",
            "Building wheels for collected packages: wget\n",
            "  Building wheel for wget (setup.py) ... \u001b[?25l\u001b[?25hdone\n",
            "  Created wheel for wget: filename=wget-3.2-cp36-none-any.whl size=9682 sha256=ef77545f088d40c4e08472521e36fd8e2c76326227146fe7bdc90adef8f39466\n",
            "  Stored in directory: /root/.cache/pip/wheels/40/15/30/7d8f7cea2902b4db79e3fea550d7d7b85ecb27ef992b618f3f\n",
            "Successfully built wget\n",
            "Installing collected packages: wget\n",
            "Successfully installed wget-3.2\n"
          ],
          "name": "stdout"
        }
      ]
    },
    {
      "cell_type": "code",
      "metadata": {
        "id": "Jc7MgsBQg_Gg"
      },
      "source": [
        "# apagando os arquivos com problema, que estao faltando informação ou que estao corrompidos\n",
        "nomes_supernovas = np.array(catalogo.Name)\n",
        "nomes_supernovas = np.delete(nomes_supernovas,2)\n",
        "nomes_supernovas = np.delete(nomes_supernovas,3)\n",
        "nomes_supernovas = np.delete(nomes_supernovas,1589)"
      ],
      "execution_count": null,
      "outputs": []
    },
    {
      "cell_type": "code",
      "metadata": {
        "id": "2Nx28M0BFEr4",
        "colab": {
          "base_uri": "https://localhost:8080/",
          "height": 87
        },
        "outputId": "78e3e9b3-1404-4395-9631-596dd11efadb"
      },
      "source": [
        "#importando os arquivos json da web para o google drive\n",
        "\n",
        "from google.colab import drive\n",
        "drive.mount(\"/content/drive/\", force_remount=True)\n",
        "'''\n",
        "import wget\n",
        "for i in range(len(nomes_supernovas)):\n",
        "  print(nomes_supernovas[i],i)\n",
        "  wget.download(\"https://sne.space/astrocats/astrocats/supernovae/output/json/\"+nomes_supernovas[i]+\".json\")\n",
        "  jsontemporario = pd.read_json(nomes_supernovas[i]+'.json')\n",
        "  jsontemporario.to_json(\"/content/drive/My Drive/projeto_supernovas/\"+nomes_supernovas[i]+\".json\")\n",
        "drive.flush_and_unmount()\n",
        "'''"
      ],
      "execution_count": null,
      "outputs": [
        {
          "output_type": "stream",
          "text": [
            "Mounted at /content/drive/\n"
          ],
          "name": "stdout"
        },
        {
          "output_type": "execute_result",
          "data": {
            "application/vnd.google.colaboratory.intrinsic+json": {
              "type": "string"
            },
            "text/plain": [
              "'\\nimport wget\\nfor i in range(len(nomes_supernovas)):\\n  print(nomes_supernovas[i],i)\\n  wget.download(\"https://sne.space/astrocats/astrocats/supernovae/output/json/\"+nomes_supernovas[i]+\".json\")\\n  jsontemporario = pd.read_json(nomes_supernovas[i]+\\'.json\\')\\n  jsontemporario.to_json(\"/content/drive/My Drive/projeto_supernovas/\"+nomes_supernovas[i]+\".json\")\\ndrive.flush_and_unmount()\\n'"
            ]
          },
          "metadata": {
            "tags": []
          },
          "execution_count": 11
        }
      ]
    },
    {
      "cell_type": "code",
      "metadata": {
        "id": "GFJL6CcvllTb"
      },
      "source": [
        "#importando os arquivos .json para uma lista\n",
        "\n",
        "listajson=[]\n",
        "for i in range(len(nomes_supernovas)):\n",
        "  #print(nomes_supernovas[i],i)\n",
        "  listajson.append(pd.read_json(\"/content/drive/My Drive/projeto_supernovas/\"+nomes_supernovas[i]+'.json'))"
      ],
      "execution_count": null,
      "outputs": []
    },
    {
      "cell_type": "code",
      "metadata": {
        "id": "RUXe69_qc6k4"
      },
      "source": [
        ""
      ],
      "execution_count": null,
      "outputs": []
    },
    {
      "cell_type": "code",
      "metadata": {
        "id": "YJdCKryDCBRU",
        "colab": {
          "base_uri": "https://localhost:8080/"
        },
        "outputId": "91252a08-026d-4ca3-b842-521c2a60487a"
      },
      "source": [
        "tempos=[]\n",
        "bandas=[]\n",
        "magnitudes=[]\n",
        "tipo=[]\n",
        "maxmagap=[]\n",
        "maxmagab=[]\n",
        "tempomax=[]\n",
        "ra=[]\n",
        "dec=[]\n",
        "z=[]\n",
        "\n",
        "#fazendo uma lista para cada informação util no arquivo json, informações obrigatorias nao nulas são: \n",
        "#tipo, dec, ra, tempomax, magmaxap,tempo da fotometria, banda da fotometria, magnitude da fotometria\n",
        "\n",
        "for i in range(len(listajson)):\n",
        "  #print(nomes_supernovas[i],i)\n",
        "\n",
        "  if ('claimedtype' in listajson[i][nomes_supernovas[i]].keys() and 'dec' in listajson[i][nomes_supernovas[i]].keys() and \n",
        "      'ra' in listajson[i][nomes_supernovas[i]].keys() and 'maxdate' in listajson[i][nomes_supernovas[i]].keys() and \n",
        "      'maxappmag' in listajson[i][nomes_supernovas[i]].keys() and 'time' in pd.DataFrame(listajson[i][nomes_supernovas[i]].photometry).keys() and \n",
        "      'band' in pd.DataFrame(listajson[i][nomes_supernovas[i]].photometry).keys() and \n",
        "      'magnitude' in pd.DataFrame(listajson[i][nomes_supernovas[i]].photometry).keys()):\n",
        "  \n",
        "    tipo.append([nomes_supernovas[i],listajson[i][nomes_supernovas[i]].claimedtype[0]['value']])\n",
        "    tempomax.append([nomes_supernovas[i],Time(listajson[i][nomes_supernovas[i]].maxdate[0]['value'].replace('/','-')).mjd]) # Modified Julian Date\n",
        "    dec.append([nomes_supernovas[i], listajson[i][nomes_supernovas[i]].dec[0]['value']])\n",
        "    ra.append([nomes_supernovas[i], listajson[i][nomes_supernovas[i]].ra[0]['value']])    \n",
        "    maxmagap.append([nomes_supernovas[i],listajson[i][nomes_supernovas[i]].maxappmag[0]['value']])\n",
        "\n",
        "\n",
        "    tempos.append([nomes_supernovas[i],pd.DataFrame(listajson[i][nomes_supernovas[i]].photometry).time])\n",
        "    bandas.append([nomes_supernovas[i],pd.DataFrame(listajson[i][nomes_supernovas[i]].photometry).band])\n",
        "    magnitudes.append([nomes_supernovas[i],pd.DataFrame(listajson[i][nomes_supernovas[i]].photometry).magnitude])\n",
        "\n",
        "\n",
        "    if 'maxabsmag' in listajson[i][nomes_supernovas[i]].keys() and 'redshift' in listajson[i][nomes_supernovas[i]].keys():\n",
        "      maxmagab.append([nomes_supernovas[i],listajson[i][nomes_supernovas[i]].maxabsmag[0]['value']])\n",
        "      z.append([nomes_supernovas[i], listajson[i][nomes_supernovas[i]].redshift[0]['value']])\n",
        "    else:\n",
        "      maxmagab.append([nomes_supernovas[i], np.nan])\n",
        "      z.append([nomes_supernovas[i], np.nan])\n"
      ],
      "execution_count": null,
      "outputs": [
        {
          "output_type": "stream",
          "text": [
            "WARNING: ErfaWarning: ERFA function \"dtf2d\" yielded 1 of \"dubious year (Note 6)\" [astropy._erfa.core]\n"
          ],
          "name": "stderr"
        }
      ]
    },
    {
      "cell_type": "code",
      "metadata": {
        "id": "jzcbeeRKuDQ0"
      },
      "source": [
        ""
      ],
      "execution_count": null,
      "outputs": []
    },
    {
      "cell_type": "code",
      "metadata": {
        "id": "ITiUm8iDKUmy",
        "colab": {
          "base_uri": "https://localhost:8080/"
        },
        "outputId": "660cae84-cd68-4238-8259-b5de5d6ef7e8"
      },
      "source": [
        "len(tempos),len(bandas),len(magnitudes),len(tipo),len(maxmagap),len(maxmagab),len(tempomax)"
      ],
      "execution_count": null,
      "outputs": [
        {
          "output_type": "execute_result",
          "data": {
            "text/plain": [
              "(7417, 7417, 7417, 7417, 7417, 7417, 7417)"
            ]
          },
          "metadata": {
            "tags": []
          },
          "execution_count": 14
        }
      ]
    },
    {
      "cell_type": "code",
      "metadata": {
        "id": "Kbk8G8g3hEAD",
        "colab": {
          "base_uri": "https://localhost:8080/"
        },
        "outputId": "b8ee26fe-5bc2-4764-c13a-026ea630b52d"
      },
      "source": [
        "# deslocando cada elemento das listas de tempo em relação ao seu tempo maximo\n",
        "\n",
        "tempos_deslocados=[]\n",
        "\n",
        "for s in range(len(tempos)):\n",
        "  if type(tempos[s][1])  == pd.core.series.Series:\n",
        "    sdf=[]\n",
        "    for k in range(len(tempos[s][1])):\n",
        "      #print(s,k)\n",
        "      if type(tempos[s][1][k]) == str:\n",
        "        sdf.append(float(tempos[s][1][k]) - tempomax[s][1])\n",
        "      else:\n",
        "        continue\n",
        "    tempos_deslocados.append([tempos[s][0] ,sdf])\n",
        "  else:\n",
        "    continue\n",
        "len(tempos_deslocados)"
      ],
      "execution_count": null,
      "outputs": [
        {
          "output_type": "execute_result",
          "data": {
            "text/plain": [
              "7417"
            ]
          },
          "metadata": {
            "tags": []
          },
          "execution_count": 15
        }
      ]
    },
    {
      "cell_type": "code",
      "metadata": {
        "id": "PTe7dViWUHht",
        "colab": {
          "base_uri": "https://localhost:8080/"
        },
        "outputId": "629bb1c0-1fdc-46be-d4fb-e875efd196a4"
      },
      "source": [
        "# arredondando os tempos deslocados\n",
        "\n",
        "for i in range(len(tempos_deslocados)):\n",
        "  for j in range(len(tempos_deslocados[i][1])):\n",
        "    tempos_deslocados[i][1][j] = round(tempos_deslocados[i][1][j], 0)\n",
        "len(tempos_deslocados)"
      ],
      "execution_count": null,
      "outputs": [
        {
          "output_type": "execute_result",
          "data": {
            "text/plain": [
              "7417"
            ]
          },
          "metadata": {
            "tags": []
          },
          "execution_count": 16
        }
      ]
    },
    {
      "cell_type": "code",
      "metadata": {
        "id": "3_14RgUwUnhh"
      },
      "source": [
        ""
      ],
      "execution_count": null,
      "outputs": []
    },
    {
      "cell_type": "code",
      "metadata": {
        "id": "YVEa3g1O-Xds",
        "colab": {
          "base_uri": "https://localhost:8080/"
        },
        "outputId": "462056c0-82a4-434d-c4ac-940634d4da84"
      },
      "source": [
        "# Separando os tempos deslocados de acordo as bandas BG e U\n",
        "\n",
        "tempos_deslocados_BG=[]\n",
        "magnitudes_BG=[]\n",
        "tempos_deslocados_U=[]\n",
        "magnitudes_U=[]\n",
        "\n",
        "for k in range(len(tempos_deslocados)):\n",
        "  ab=[]\n",
        "  cd=[]\n",
        "  ef=[]\n",
        "  gh=[]\n",
        "  for j in range(len(tempos_deslocados[k][1])):\n",
        "    if (bandas[k][1][j] == 'B' or bandas[k][1][j] == 'b' or bandas[k][1][j] == 'g' or bandas[k][1][j] == 'G' or \n",
        "        bandas[k][1][j] == \"B'\" or bandas[k][1][j] == \"b'\" or bandas[k][1][j] == \"g'\" or bandas[k][1][j] == \"G'\" or\n",
        "        bandas[k][1][j] == \"'B\" or bandas[k][1][j] == \"'b\" or bandas[k][1][j] == \"'g\" or bandas[k][1][j] == \"'G\"):\n",
        "      ab.append(float(tempos_deslocados[k][1][j]))\n",
        "      cd.append(float(magnitudes[k][1][j]))\n",
        "    if (bandas[k][1][j] == 'U' or bandas[k][1][j] == 'u' or bandas[k][1][j] == \"U'\" or bandas[k][1][j] == \"u'\" or\n",
        "        bandas[k][1][j] == \"'U\" or bandas[k][1][j] == \"'u\"):\n",
        "      ef.append(float(tempos_deslocados[k][1][j]))\n",
        "      gh.append(float(magnitudes[k][1][j]))\n",
        "\n",
        "  if ab != [] and cd != []:\n",
        "    tempos_deslocados_BG.append([tempos_deslocados[k][0], ab])\n",
        "    magnitudes_BG.append([magnitudes[k][0], cd])\n",
        "  if ef != [] and gh!= []:\n",
        "    tempos_deslocados_U.append([tempos_deslocados[k][0], ef])\n",
        "    magnitudes_U.append([magnitudes[k][0], gh])\n",
        "      \n",
        "len(tempos_deslocados_BG),len(magnitudes_BG),len(tempos_deslocados_U),len(magnitudes_U)"
      ],
      "execution_count": null,
      "outputs": [
        {
          "output_type": "execute_result",
          "data": {
            "text/plain": [
              "(6059, 6059, 2106, 2106)"
            ]
          },
          "metadata": {
            "tags": []
          },
          "execution_count": 17
        }
      ]
    },
    {
      "cell_type": "code",
      "metadata": {
        "id": "8-WtoexEU1hZ"
      },
      "source": [
        ""
      ],
      "execution_count": null,
      "outputs": []
    },
    {
      "cell_type": "code",
      "metadata": {
        "id": "UJRWRhl6-XUe",
        "colab": {
          "base_uri": "https://localhost:8080/"
        },
        "outputId": "0d4eb78c-6b1b-4142-97b6-3085d4ccf5e5"
      },
      "source": [
        "# Separando as magnitudes da banda BG relativas aos tempos deslocados em 4 intervalos apenas, de -6 até 6 dias\n",
        "\n",
        "magnitudesBG1=[] #lista com a média das magnitudes medidas entre -6 e -4 dias, um valor para cada supernova\n",
        "magnitudesBG2=[] #lista com a média das magnitudes medidas entre -3 e 0 dias, um valor para cada supernova\n",
        "magnitudesBG3=[] #lista com a média das magnitudes medidas entre 1 e 3 dias, um valor para cada supernova\n",
        "magnitudesBG4=[] #lista com a média das magnitudes medidas entre 4 e 5 dias, um valor para cada supernova\n",
        "\n",
        "\n",
        "for i in range(len(tempos_deslocados_BG)):\n",
        "  if type(tempos_deslocados_BG[i]) == list:\n",
        "    ab=[]\n",
        "    cd=[]\n",
        "    ef=[]\n",
        "    gh=[]\n",
        "    for j in range(len(tempos_deslocados_BG[i][1])):\n",
        "      if tempos_deslocados_BG[i][1][j] >= -6 and tempos_deslocados_BG[i][1][j] <= -4:  #todos os decimais de -6, -5 e -4\n",
        "        ab.append(magnitudes_BG[i][1][j])\n",
        "      if tempos_deslocados_BG[i][1][j] >= -3 and tempos_deslocados_BG[i][1][j] <= -1:  #todos os decimais de -3, -2, -1\n",
        "        cd.append(magnitudes_BG[i][1][j])\n",
        "      if tempos_deslocados_BG[i][1][j] >= 0 and tempos_deslocados_BG[i][1][j] <= 3:  #todos os decimais de 0, 1, 2 e 3\n",
        "        ef.append(magnitudes_BG[i][1][j])\n",
        "      if tempos_deslocados_BG[i][1][j] >= 4 and tempos_deslocados_BG[i][1][j] <= 6:  #todos os decimais de 4, 5 e 6\n",
        "        gh.append(magnitudes_BG[i][1][j])\n",
        "\n",
        "    if ab != [] and cd != [] and ef != [] and gh != []: #apenas os valores que tem medida nos 4 intervalos de tempo\n",
        "      magnitudesBG1.append([magnitudes_BG[i][0] ,np.mean(ab)]) # para cada supernova, adiciono a media das magnitudes no intervalo de tempo escolhido\n",
        "      magnitudesBG2.append([magnitudes_BG[i][0] ,np.mean(cd)])\n",
        "      magnitudesBG3.append([magnitudes_BG[i][0] ,np.mean(ef)])\n",
        "      magnitudesBG4.append([magnitudes_BG[i][0] ,np.mean(gh)])   \n",
        "\n",
        "\n",
        "#criando uma lista em que cada elemento é uma lista de 4 valores das magnitudes acima (1 para cada intervalo de tempo)\n",
        "mags_reduzidas_BG=[]\n",
        "for k in range(len(magnitudesBG1)):\n",
        "  mags_reduzidas_BG.append([magnitudesBG1[k][0],magnitudesBG1[k][1],magnitudesBG2[k][1],magnitudesBG3[k][1],magnitudesBG4[k][1]])\n",
        "\n",
        "len(magnitudesBG1),len(magnitudesBG2),len(magnitudesBG3),len(magnitudesBG4),len(mags_reduzidas_BG)"
      ],
      "execution_count": null,
      "outputs": [
        {
          "output_type": "execute_result",
          "data": {
            "text/plain": [
              "(562, 562, 562, 562, 562)"
            ]
          },
          "metadata": {
            "tags": []
          },
          "execution_count": 18
        }
      ]
    },
    {
      "cell_type": "code",
      "metadata": {
        "id": "AsW2RZ3rhDG5",
        "colab": {
          "base_uri": "https://localhost:8080/"
        },
        "outputId": "a2b9e9c4-0a3e-452e-aa13-403364cfda2e"
      },
      "source": [
        "# Mesmo processo feito para a banda BG, agora para a banda U\n",
        "\n",
        "# Separando as magnitudes da banda U relativas aos tempos deslocados em 4 intervalos apenas, de -6 até 6 dias\n",
        "\n",
        "magnitudesU1=[] #lista com a média das magnitudes medidas entre -6 e -4 dias, um valor para cada supernova\n",
        "magnitudesU2=[] #lista com a média das magnitudes medidas entre -3 e 0 dias, um valor para cada supernova\n",
        "magnitudesU3=[] #lista com a média das magnitudes medidas entre 1 e 3 dias, um valor para cada supernova\n",
        "magnitudesU4=[] #lista com a média das magnitudes medidas entre 4 e 5 dias, um valor para cada supernova\n",
        "\n",
        "\n",
        "for i in range(len(tempos_deslocados_U)):\n",
        "  if type(tempos_deslocados_U[i]) == list:\n",
        "    ab=[]\n",
        "    cd=[]\n",
        "    ef=[]\n",
        "    gh=[]\n",
        "    for j in range(len(tempos_deslocados_U[i][1])):\n",
        "      if tempos_deslocados_U[i][1][j] >= -6 and tempos_deslocados_U[i][1][j] <= -4:  #todos os decimais de -6, -5 e -4\n",
        "        ab.append(magnitudes_U[i][1][j])\n",
        "      if tempos_deslocados_U[i][1][j] >= -3 and tempos_deslocados_U[i][1][j] <= -1:  #todos os decimais de -3, -2, -1\n",
        "        cd.append(magnitudes_U[i][1][j])\n",
        "      if tempos_deslocados_U[i][1][j] >= 0 and tempos_deslocados_U[i][1][j] <= 3:  #todos os decimais de 0, 1, 2 e 3\n",
        "        ef.append(magnitudes_U[i][1][j])\n",
        "      if tempos_deslocados_U[i][1][j] >= 4 and tempos_deslocados_U[i][1][j] <= 6:  #todos os decimais de 4, 5 e 6\n",
        "        gh.append(magnitudes_U[i][1][j])\n",
        "\n",
        "    if ab != [] and cd != [] and ef != [] and gh != []: #apenas os valores que tem medida nos 4 intervalos de tempo\n",
        "      magnitudesU1.append([magnitudes_U[i][0] ,np.mean(ab)]) # para cada supernova, adiciono a media das magnitudes no intervalo de tempo escolhido\n",
        "      magnitudesU2.append([magnitudes_U[i][0] ,np.mean(cd)])\n",
        "      magnitudesU3.append([magnitudes_U[i][0] ,np.mean(ef)])\n",
        "      magnitudesU4.append([magnitudes_U[i][0] ,np.mean(gh)])   \n",
        "\n",
        "\n",
        "#criando uma lista em que cada elemento é uma lista de 4 valores das magnitudes acima (1 para cada intervalo de tempo)\n",
        "mags_reduzidas_U=[]\n",
        "for k in range(len(magnitudesU1)):\n",
        "  mags_reduzidas_U.append([magnitudesU1[k][0],magnitudesU1[k][1],magnitudesU2[k][1],magnitudesU3[k][1],magnitudesU4[k][1]])\n",
        "\n",
        "len(magnitudesU1),len(magnitudesU2),len(magnitudesU3),len(magnitudesU4),len(mags_reduzidas_U)"
      ],
      "execution_count": null,
      "outputs": [
        {
          "output_type": "execute_result",
          "data": {
            "text/plain": [
              "(365, 365, 365, 365, 365)"
            ]
          },
          "metadata": {
            "tags": []
          },
          "execution_count": 19
        }
      ]
    },
    {
      "cell_type": "code",
      "metadata": {
        "id": "Lbh_VGsmV4zb",
        "colab": {
          "base_uri": "https://localhost:8080/",
          "height": 545
        },
        "outputId": "56ca2a0d-3eaf-493a-9e80-341316ef1d28"
      },
      "source": [
        "temposplot = ['-6 to -3', '-3 to 0', '0 to 4', '4 to 6']\n",
        "for i in range(len(mags_reduzidas_BG)):\n",
        "  plt.plot(temposplot,mags_reduzidas_BG[i][1:5],'x')\n",
        "plt.title('magnitudes na banda BG para as supernovas com medidas nos 4 intervalos de tempo')\n",
        "plt.show()\n",
        "\n",
        "for i in range(len(mags_reduzidas_U)):\n",
        "  plt.plot(temposplot,mags_reduzidas_U[i][1:5],'x')\n",
        "plt.title('magnitudes na banda U para as supernovas com medidas nos 4 intervalos de tempo')\n",
        "plt.show()"
      ],
      "execution_count": null,
      "outputs": [
        {
          "output_type": "display_data",
          "data": {
            "image/png": "[encoded data removed]",
            "text/plain": [
              "<Figure size 432x288 with 1 Axes>"
            ]
          },
          "metadata": {
            "tags": [],
            "needs_background": "light"
          }
        },
        {
          "output_type": "display_data",
          "data": {
            "image/png": "[encoded data removed]",
            "text/plain": [
              "<Figure size 432x288 with 1 Axes>"
            ]
          },
          "metadata": {
            "tags": [],
            "needs_background": "light"
          }
        }
      ]
    },
    {
      "cell_type": "code",
      "metadata": {
        "id": "wbcl6ogecpD0",
        "colab": {
          "base_uri": "https://localhost:8080/"
        },
        "outputId": "3ffe25c5-5428-4744-ad1b-ec1d452af418"
      },
      "source": [
        "# escalonando as magnitudes\n",
        "\n",
        "mags_escalonadas_BG=[]\n",
        "\n",
        "for k in range(len(maxmagap)):\n",
        "  for i in range(len(mags_reduzidas_BG)):\n",
        "    esc1=[]\n",
        "    for j in range(1,5):\n",
        "      if mags_reduzidas_BG[i][0] == maxmagap[k][0]:\n",
        "        esc1.append(mags_reduzidas_BG[i][j] / float(maxmagap[k][1]))\n",
        "    if esc1 not in mags_escalonadas_BG and esc1 != []:\n",
        "      mags_escalonadas_BG.append([mags_reduzidas_BG[i][0],esc1])\n",
        "\n",
        "\n",
        "mags_escalonadas_U=[]\n",
        "for k in range(len(maxmagap)):\n",
        "  for i in range(len(mags_reduzidas_U)):\n",
        "    esc2=[]\n",
        "    for j in range(1,5):\n",
        "      if mags_reduzidas_U[i][0] == maxmagap[k][0]:\n",
        "        esc2.append(mags_reduzidas_U[i][j] / float(maxmagap[k][1]))\n",
        "    if esc2 not in mags_escalonadas_U and esc2 != []:\n",
        "      mags_escalonadas_U.append([mags_reduzidas_U[i][0],esc2])\n",
        "\n",
        "len(mags_reduzidas_BG),len(mags_escalonadas_BG),len(mags_reduzidas_U), len(mags_escalonadas_U)"
      ],
      "execution_count": null,
      "outputs": [
        {
          "output_type": "execute_result",
          "data": {
            "text/plain": [
              "(562, 562, 365, 365)"
            ]
          },
          "metadata": {
            "tags": []
          },
          "execution_count": 21
        }
      ]
    },
    {
      "cell_type": "code",
      "metadata": {
        "id": "B7Xl9H1pX3rR",
        "colab": {
          "base_uri": "https://localhost:8080/"
        },
        "outputId": "6b13ea49-5d67-4f45-d4b7-6a36667af690"
      },
      "source": [
        "# nomes das supernovas tem em comum na banda BG e U\n",
        "nomes_BG_U=[]\n",
        "for i in range(len(mags_reduzidas_BG)):\n",
        "  for j in range(len(mags_reduzidas_U)):\n",
        "    if mags_reduzidas_BG[i][0] == mags_reduzidas_U[j][0]:\n",
        "      nomes_BG_U.append(mags_reduzidas_BG[i][0])\n",
        "      #print(mags_reduzidas_BG[i][0])\n",
        "len(nomes_BG_U)"
      ],
      "execution_count": null,
      "outputs": [
        {
          "output_type": "execute_result",
          "data": {
            "text/plain": [
              "349"
            ]
          },
          "metadata": {
            "tags": []
          },
          "execution_count": 22
        }
      ]
    },
    {
      "cell_type": "code",
      "metadata": {
        "id": "IFgw24QkJhKk",
        "colab": {
          "base_uri": "https://localhost:8080/"
        },
        "outputId": "41d626b7-c3f3-4382-c932-4b9db81bc1c7"
      },
      "source": [
        "# apagando as supernovas que nao estao em ambas listas\n",
        "mags_BG=[]\n",
        "for i in range(len(mags_escalonadas_BG)):\n",
        "  for j in range(len(nomes_BG_U)):\n",
        "    if mags_escalonadas_BG[i][0] in nomes_BG_U[j] and mags_escalonadas_BG[i] not in mags_BG:\n",
        "      mags_BG.append(mags_escalonadas_BG[i])\n",
        "\n",
        "mags_U=[]\n",
        "for i in range(len(mags_escalonadas_U)):\n",
        "  for j in range(len(nomes_BG_U)):\n",
        "    if mags_escalonadas_U[i][0] in nomes_BG_U[j] and mags_escalonadas_U[i] not in mags_U:\n",
        "      mags_U.append(mags_escalonadas_U[i])\n",
        "\n",
        "len(mags_escalonadas_BG),len(mags_escalonadas_U),len(mags_BG),len(mags_U)"
      ],
      "execution_count": null,
      "outputs": [
        {
          "output_type": "execute_result",
          "data": {
            "text/plain": [
              "(562, 365, 349, 349)"
            ]
          },
          "metadata": {
            "tags": []
          },
          "execution_count": 23
        }
      ]
    },
    {
      "cell_type": "code",
      "metadata": {
        "id": "qKPmWzFuHPce"
      },
      "source": [
        "# organizando esses dois conjuntos de magnitudes alfabeticamente de acordo com o nome da supernova\n",
        "mags_BG = pd.DataFrame(mags_BG).sort_values(0)\n",
        "mags_U = pd.DataFrame(mags_U).sort_values(0)"
      ],
      "execution_count": null,
      "outputs": []
    },
    {
      "cell_type": "code",
      "metadata": {
        "id": "1YxaOQGmNUms",
        "colab": {
          "base_uri": "https://localhost:8080/"
        },
        "outputId": "922a56f9-8379-4a60-a88c-622a61603737"
      },
      "source": [
        "# filtando a lista de tipos para ficar apenas com as supernovas que tem magnitude nas duas bandas\n",
        "tipo_sel=[]\n",
        "for i in range(len(tipo)):\n",
        "  for j in range(len(nomes_BG_U)):\n",
        "    if nomes_BG_U[j] in tipo[i][0] and tipo[i][0] in nomes_BG_U[j] and nomes_BG_U[j] not in tipo_sel and tipo[i] != []:\n",
        "      tipo_sel.append(tipo[i])\n",
        "\n",
        "len(tipo),len(tipo_sel)"
      ],
      "execution_count": null,
      "outputs": [
        {
          "output_type": "execute_result",
          "data": {
            "text/plain": [
              "(7417, 349)"
            ]
          },
          "metadata": {
            "tags": []
          },
          "execution_count": 25
        }
      ]
    },
    {
      "cell_type": "code",
      "metadata": {
        "id": "1VycbJVtSaMf"
      },
      "source": [
        "# organizando o tipo de acordo com o nome das supernovas em ordem alfabetica\n",
        "\n",
        "tipos = pd.DataFrame(tipo_sel).sort_values(0)"
      ],
      "execution_count": null,
      "outputs": []
    },
    {
      "cell_type": "code",
      "metadata": {
        "id": "HFq1xomJV5JA",
        "colab": {
          "base_uri": "https://localhost:8080/"
        },
        "outputId": "5706e8ec-a1ea-474f-d127-e77a99fe879d"
      },
      "source": [
        "# adicionando todas essas informações à um dataframe\n",
        "\n",
        "catalogo_novo = []\n",
        "catalogo_novo = pd.DataFrame(catalogo_novo)\n",
        "\n",
        "catalogo_novo = pd.concat([catalogo_novo, tipos], axis=1)\n",
        "catalogo_novo = catalogo_novo.rename(columns={0: 'nomes', 1:'tipos'})\n",
        "\n",
        "catalogo_novo = pd.concat([catalogo_novo, mags_BG], axis=1)\n",
        "catalogo_novo = catalogo_novo.rename(columns={1: 'mags_BG'})\n",
        "\n",
        "catalogo_novo = pd.concat([catalogo_novo, mags_U], axis=1)\n",
        "catalogo_novo = catalogo_novo.rename(columns={1: 'mags_U'})\n",
        "\n",
        "# apagando as colunas extras com nomes e reiniciando os indices\n",
        "catalogo_novo = catalogo_novo.drop([0],axis=1)\n",
        "catalogo_novo = catalogo_novo.reset_index()\n",
        "catalogo_novo = catalogo_novo.drop(['index'],axis=1)\n",
        "\n",
        "catalogo_novo"
      ],
      "execution_count": null,
      "outputs": [
        {
          "output_type": "execute_result",
          "data": {
            "text/html": [
              "<div>\n",
              "<style scoped>\n",
              "    .dataframe tbody tr th:only-of-type {\n",
              "        vertical-align: middle;\n",
              "    }\n",
              "\n",
              "    .dataframe tbody tr th {\n",
              "        vertical-align: top;\n",
              "    }\n",
              "\n",
              "    .dataframe thead th {\n",
              "        text-align: right;\n",
              "    }\n",
              "</style>\n",
              "<table border=\"1\" class=\"dataframe\">\n",
              "  <thead>\n",
              "    <tr style=\"text-align: right;\">\n",
              "      <th></th>\n",
              "      <th>nomes</th>\n",
              "      <th>tipos</th>\n",
              "      <th>mags_BG</th>\n",
              "      <th>mags_U</th>\n",
              "    </tr>\n",
              "  </thead>\n",
              "  <tbody>\n",
              "    <tr>\n",
              "      <th>0</th>\n",
              "      <td>ASASSN-14bd</td>\n",
              "      <td>Ia</td>\n",
              "      <td>[1.0581521739130435, 1.0472826086956522, 1.040...</td>\n",
              "      <td>[1.0342995169082128, 1.0030797101449276, 1.000...</td>\n",
              "    </tr>\n",
              "    <tr>\n",
              "      <th>1</th>\n",
              "      <td>ASASSN-14lp</td>\n",
              "      <td>Ia</td>\n",
              "      <td>[1.0316010058675609, 1.0209555741827325, 1.026...</td>\n",
              "      <td>[1.0556747694886839, 1.0808885163453479, 1.058...</td>\n",
              "    </tr>\n",
              "    <tr>\n",
              "      <th>2</th>\n",
              "      <td>CSS140914:010107-101840</td>\n",
              "      <td>Ia</td>\n",
              "      <td>[1.272233932630709, 1.0623372597644143, 1.0401...</td>\n",
              "      <td>[1.0595784252944824, 1.018908865468072, 1.0015...</td>\n",
              "    </tr>\n",
              "    <tr>\n",
              "      <th>3</th>\n",
              "      <td>Gaia15agh</td>\n",
              "      <td>Ia</td>\n",
              "      <td>[1.0230995875073658, 1.0285346690237676, 1.036...</td>\n",
              "      <td>[1.092737183264585, 1.1154213317619328, 1.1330...</td>\n",
              "    </tr>\n",
              "    <tr>\n",
              "      <th>4</th>\n",
              "      <td>LSQ11ot</td>\n",
              "      <td>Ia</td>\n",
              "      <td>[1.0351217228464418, 1.0366783707865168, 1.046...</td>\n",
              "      <td>[1.0843258426966293, 1.076505617977528, 1.0995...</td>\n",
              "    </tr>\n",
              "    <tr>\n",
              "      <th>...</th>\n",
              "      <td>...</td>\n",
              "      <td>...</td>\n",
              "      <td>...</td>\n",
              "      <td>...</td>\n",
              "    </tr>\n",
              "    <tr>\n",
              "      <th>344</th>\n",
              "      <td>SN2016coi</td>\n",
              "      <td>Ic BL</td>\n",
              "      <td>[1.0903841387856257, 1.0918066914498143, 1.090...</td>\n",
              "      <td>[1.0925898389095414, 1.1158736059479555, 1.139...</td>\n",
              "    </tr>\n",
              "    <tr>\n",
              "      <th>345</th>\n",
              "      <td>SN2017egm</td>\n",
              "      <td>SLSN-I</td>\n",
              "      <td>[1.1579420556714561, 1.1439178943069561, 1.137...</td>\n",
              "      <td>[1.0519683411837373, 1.0421061212278988, 1.037...</td>\n",
              "    </tr>\n",
              "    <tr>\n",
              "      <th>346</th>\n",
              "      <td>iPTF13dge</td>\n",
              "      <td>Ia</td>\n",
              "      <td>[1.0671968190854872, 1.0369532803180916, 1.024...</td>\n",
              "      <td>[1.0525734481996907, 1.018316766070245, 1.0127...</td>\n",
              "    </tr>\n",
              "    <tr>\n",
              "      <th>347</th>\n",
              "      <td>iPTF13ebh</td>\n",
              "      <td>Ia</td>\n",
              "      <td>[1.0978705118411, 1.0440931372549018, 1.022496...</td>\n",
              "      <td>[1.0990641711229947, 1.0563836898395722, 1.070...</td>\n",
              "    </tr>\n",
              "    <tr>\n",
              "      <th>348</th>\n",
              "      <td>iPTF14bdn</td>\n",
              "      <td>Ia</td>\n",
              "      <td>[1.0507306889352819, 1.0414057063326374, 1.031...</td>\n",
              "      <td>[1.0075156576200417, 1.003409881697982, 1.0038...</td>\n",
              "    </tr>\n",
              "  </tbody>\n",
              "</table>\n",
              "<p>349 rows × 4 columns</p>\n",
              "</div>"
            ],
            "text/plain": [
              "                       nomes  ...                                             mags_U\n",
              "0                ASASSN-14bd  ...  [1.0342995169082128, 1.0030797101449276, 1.000...\n",
              "1                ASASSN-14lp  ...  [1.0556747694886839, 1.0808885163453479, 1.058...\n",
              "2    CSS140914:010107-101840  ...  [1.0595784252944824, 1.018908865468072, 1.0015...\n",
              "3                  Gaia15agh  ...  [1.092737183264585, 1.1154213317619328, 1.1330...\n",
              "4                    LSQ11ot  ...  [1.0843258426966293, 1.076505617977528, 1.0995...\n",
              "..                       ...  ...                                                ...\n",
              "344                SN2016coi  ...  [1.0925898389095414, 1.1158736059479555, 1.139...\n",
              "345                SN2017egm  ...  [1.0519683411837373, 1.0421061212278988, 1.037...\n",
              "346                iPTF13dge  ...  [1.0525734481996907, 1.018316766070245, 1.0127...\n",
              "347                iPTF13ebh  ...  [1.0990641711229947, 1.0563836898395722, 1.070...\n",
              "348                iPTF14bdn  ...  [1.0075156576200417, 1.003409881697982, 1.0038...\n",
              "\n",
              "[349 rows x 4 columns]"
            ]
          },
          "metadata": {
            "tags": []
          },
          "execution_count": 27
        }
      ]
    },
    {
      "cell_type": "code",
      "metadata": {
        "id": "JEiyqopiV42c",
        "colab": {
          "base_uri": "https://localhost:8080/"
        },
        "outputId": "0aebf9ef-d77e-47ed-d286-fbf327c55ab2"
      },
      "source": [
        "# Salvando esse dataframe em um arquivo csv no drive\n",
        "\n",
        "from google.colab import drive\n",
        "drive.mount('/content/drive')\n",
        "catalogo_novo.to_csv('/content/drive/My Drive/projeto_supernovas_csv/supernovas_sharon.csv')"
      ],
      "execution_count": null,
      "outputs": [
        {
          "output_type": "stream",
          "text": [
            "Drive already mounted at /content/drive; to attempt to forcibly remount, call drive.mount(\"/content/drive\", force_remount=True).\n"
          ],
          "name": "stdout"
        }
      ]
    },
    {
      "cell_type": "code",
      "metadata": {
        "id": "UjjamHvxbfSP",
        "colab": {
          "base_uri": "https://localhost:8080/"
        },
        "outputId": "b60e3e40-a72c-4e91-8867-4d16e3bcd486"
      },
      "source": [
        "#quantidade de tipos\n",
        "\n",
        "catalogo_novo.tipos.value_counts()"
      ],
      "execution_count": null,
      "outputs": [
        {
          "output_type": "execute_result",
          "data": {
            "text/plain": [
              "II            205\n",
              "Ia            106\n",
              "IIb             8\n",
              "Ib              6\n",
              "Ic BL           5\n",
              "Ic              4\n",
              "Ia Pec          3\n",
              "Ia-91T          2\n",
              "SLSN-I          1\n",
              "II Pec          1\n",
              "IIn             1\n",
              "II P            1\n",
              "Ia-91bg         1\n",
              "Ib/c            1\n",
              "SLSN            1\n",
              "BL-Ic           1\n",
              "Ia-02cx         1\n",
              "LBV to IIn      1\n",
              "Name: tipos, dtype: int64"
            ]
          },
          "metadata": {
            "tags": []
          },
          "execution_count": 29
        }
      ]
    },
    {
      "cell_type": "code",
      "metadata": {
        "id": "83EXzaANoHlE"
      },
      "source": [
        ""
      ],
      "execution_count": null,
      "outputs": []
    }
  ]
}